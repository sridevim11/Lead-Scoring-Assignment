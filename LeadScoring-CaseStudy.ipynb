{
 "cells": [
  {
   "cell_type": "code",
   "execution_count": 200,
   "metadata": {},
   "outputs": [],
   "source": [
    "import pandas as pd\n",
    "import numpy as np\n",
    "import matplotlib.pyplot as plt\n",
    "import seaborn as sns \n",
    "from matplotlib.pyplot import xticks\n",
    "%matplotlib inline"
   ]
  },
  {
   "cell_type": "code",
   "execution_count": 201,
   "metadata": {},
   "outputs": [],
   "source": [
    "#importing the dataset for analysis and model building\n",
    "df_ls=pd.read_csv(\"Leads.csv\")"
   ]
  },
  {
   "cell_type": "code",
   "execution_count": 202,
   "metadata": {},
   "outputs": [
    {
     "data": {
      "text/plain": [
       "(9240, 37)"
      ]
     },
     "execution_count": 202,
     "metadata": {},
     "output_type": "execute_result"
    }
   ],
   "source": [
    "#Get dimensions of the dataset\n",
    "df_ls.shape"
   ]
  },
  {
   "cell_type": "code",
   "execution_count": 203,
   "metadata": {},
   "outputs": [
    {
     "name": "stdout",
     "output_type": "stream",
     "text": [
      "<class 'pandas.core.frame.DataFrame'>\n",
      "RangeIndex: 9240 entries, 0 to 9239\n",
      "Data columns (total 37 columns):\n",
      " #   Column                                         Non-Null Count  Dtype  \n",
      "---  ------                                         --------------  -----  \n",
      " 0   Prospect ID                                    9240 non-null   object \n",
      " 1   Lead Number                                    9240 non-null   int64  \n",
      " 2   Lead Origin                                    9240 non-null   object \n",
      " 3   Lead Source                                    9204 non-null   object \n",
      " 4   Do Not Email                                   9240 non-null   object \n",
      " 5   Do Not Call                                    9240 non-null   object \n",
      " 6   Converted                                      9240 non-null   int64  \n",
      " 7   TotalVisits                                    9103 non-null   float64\n",
      " 8   Total Time Spent on Website                    9240 non-null   int64  \n",
      " 9   Page Views Per Visit                           9103 non-null   float64\n",
      " 10  Last Activity                                  9137 non-null   object \n",
      " 11  Country                                        6779 non-null   object \n",
      " 12  Specialization                                 7802 non-null   object \n",
      " 13  How did you hear about X Education             7033 non-null   object \n",
      " 14  What is your current occupation                6550 non-null   object \n",
      " 15  What matters most to you in choosing a course  6531 non-null   object \n",
      " 16  Search                                         9240 non-null   object \n",
      " 17  Magazine                                       9240 non-null   object \n",
      " 18  Newspaper Article                              9240 non-null   object \n",
      " 19  X Education Forums                             9240 non-null   object \n",
      " 20  Newspaper                                      9240 non-null   object \n",
      " 21  Digital Advertisement                          9240 non-null   object \n",
      " 22  Through Recommendations                        9240 non-null   object \n",
      " 23  Receive More Updates About Our Courses         9240 non-null   object \n",
      " 24  Tags                                           5887 non-null   object \n",
      " 25  Lead Quality                                   4473 non-null   object \n",
      " 26  Update me on Supply Chain Content              9240 non-null   object \n",
      " 27  Get updates on DM Content                      9240 non-null   object \n",
      " 28  Lead Profile                                   6531 non-null   object \n",
      " 29  City                                           7820 non-null   object \n",
      " 30  Asymmetrique Activity Index                    5022 non-null   object \n",
      " 31  Asymmetrique Profile Index                     5022 non-null   object \n",
      " 32  Asymmetrique Activity Score                    5022 non-null   float64\n",
      " 33  Asymmetrique Profile Score                     5022 non-null   float64\n",
      " 34  I agree to pay the amount through cheque       9240 non-null   object \n",
      " 35  A free copy of Mastering The Interview         9240 non-null   object \n",
      " 36  Last Notable Activity                          9240 non-null   object \n",
      "dtypes: float64(4), int64(3), object(30)\n",
      "memory usage: 2.6+ MB\n"
     ]
    }
   ],
   "source": [
    "#Observe the data types of the features\n",
    "df_ls.info()"
   ]
  },
  {
   "cell_type": "markdown",
   "metadata": {},
   "source": [
    "## Data Pre-processing"
   ]
  },
  {
   "cell_type": "code",
   "execution_count": 204,
   "metadata": {},
   "outputs": [
    {
     "data": {
      "text/plain": [
       "Prospect ID                                       0.000000\n",
       "Lead Number                                       0.000000\n",
       "Lead Origin                                       0.000000\n",
       "Lead Source                                       0.389610\n",
       "Do Not Email                                      0.000000\n",
       "Do Not Call                                       0.000000\n",
       "Converted                                         0.000000\n",
       "TotalVisits                                       1.482684\n",
       "Total Time Spent on Website                       0.000000\n",
       "Page Views Per Visit                              1.482684\n",
       "Last Activity                                     1.114719\n",
       "Country                                          26.634199\n",
       "Specialization                                   15.562771\n",
       "How did you hear about X Education               23.885281\n",
       "What is your current occupation                  29.112554\n",
       "What matters most to you in choosing a course    29.318182\n",
       "Search                                            0.000000\n",
       "Magazine                                          0.000000\n",
       "Newspaper Article                                 0.000000\n",
       "X Education Forums                                0.000000\n",
       "Newspaper                                         0.000000\n",
       "Digital Advertisement                             0.000000\n",
       "Through Recommendations                           0.000000\n",
       "Receive More Updates About Our Courses            0.000000\n",
       "Tags                                             36.287879\n",
       "Lead Quality                                     51.590909\n",
       "Update me on Supply Chain Content                 0.000000\n",
       "Get updates on DM Content                         0.000000\n",
       "Lead Profile                                     29.318182\n",
       "City                                             15.367965\n",
       "Asymmetrique Activity Index                      45.649351\n",
       "Asymmetrique Profile Index                       45.649351\n",
       "Asymmetrique Activity Score                      45.649351\n",
       "Asymmetrique Profile Score                       45.649351\n",
       "I agree to pay the amount through cheque          0.000000\n",
       "A free copy of Mastering The Interview            0.000000\n",
       "Last Notable Activity                             0.000000\n",
       "dtype: float64"
      ]
     },
     "execution_count": 204,
     "metadata": {},
     "output_type": "execute_result"
    }
   ],
   "source": [
    "#Check for columns having missing values greater than 40% and drop them\n",
    "((df_ls.isnull().sum()/9240)*100)"
   ]
  },
  {
   "cell_type": "code",
   "execution_count": 205,
   "metadata": {},
   "outputs": [
    {
     "name": "stdout",
     "output_type": "stream",
     "text": [
      "['Lead Quality', 'Asymmetrique Activity Index', 'Asymmetrique Profile Index', 'Asymmetrique Activity Score', 'Asymmetrique Profile Score']\n"
     ]
    }
   ],
   "source": [
    "li=list(df_ls.columns.values)\n",
    "li1=[]\n",
    "for i in li:\n",
    "    if ((df_ls[i].isnull().sum()*100)/df_ls.shape[0])>40:\n",
    "        li1.append(i)\n",
    "print(li1)"
   ]
  },
  {
   "cell_type": "code",
   "execution_count": 206,
   "metadata": {},
   "outputs": [],
   "source": [
    "df_ls.drop(['Lead Quality', 'Asymmetrique Activity Index', 'Asymmetrique Profile Index', \n",
    "            'Asymmetrique Activity Score', 'Asymmetrique Profile Score'],axis=1,inplace=True)"
   ]
  },
  {
   "cell_type": "code",
   "execution_count": 207,
   "metadata": {},
   "outputs": [
    {
     "data": {
      "text/plain": [
       "Prospect ID                                         0\n",
       "Lead Number                                         0\n",
       "Lead Origin                                         0\n",
       "Lead Source                                        36\n",
       "Do Not Email                                        0\n",
       "Do Not Call                                         0\n",
       "Converted                                           0\n",
       "TotalVisits                                       137\n",
       "Total Time Spent on Website                         0\n",
       "Page Views Per Visit                              137\n",
       "Last Activity                                     103\n",
       "Country                                          2461\n",
       "Specialization                                   1438\n",
       "How did you hear about X Education               2207\n",
       "What is your current occupation                  2690\n",
       "What matters most to you in choosing a course    2709\n",
       "Search                                              0\n",
       "Magazine                                            0\n",
       "Newspaper Article                                   0\n",
       "X Education Forums                                  0\n",
       "Newspaper                                           0\n",
       "Digital Advertisement                               0\n",
       "Through Recommendations                             0\n",
       "Receive More Updates About Our Courses              0\n",
       "Tags                                             3353\n",
       "Update me on Supply Chain Content                   0\n",
       "Get updates on DM Content                           0\n",
       "Lead Profile                                     2709\n",
       "City                                             1420\n",
       "I agree to pay the amount through cheque            0\n",
       "A free copy of Mastering The Interview              0\n",
       "Last Notable Activity                               0\n",
       "dtype: int64"
      ]
     },
     "execution_count": 207,
     "metadata": {},
     "output_type": "execute_result"
    }
   ],
   "source": [
    "df_ls.isnull().sum()"
   ]
  },
  {
   "cell_type": "code",
   "execution_count": 208,
   "metadata": {},
   "outputs": [
    {
     "data": {
      "text/plain": [
       "0           Olark Chat\n",
       "1       Organic Search\n",
       "2       Direct Traffic\n",
       "3       Direct Traffic\n",
       "4               Google\n",
       "             ...      \n",
       "9235    Direct Traffic\n",
       "9236    Direct Traffic\n",
       "9237    Direct Traffic\n",
       "9238            Google\n",
       "9239    Direct Traffic\n",
       "Name: Lead Source, Length: 9240, dtype: object"
      ]
     },
     "execution_count": 208,
     "metadata": {},
     "output_type": "execute_result"
    }
   ],
   "source": [
    "#Replace mssing values under Lead Source with modt frequent value\n",
    "ss=df_ls['Lead Source'].mode()[0]\n",
    "df_ls['Lead Source']"
   ]
  },
  {
   "cell_type": "code",
   "execution_count": 209,
   "metadata": {},
   "outputs": [],
   "source": [
    "df_ls['Lead Source'].fillna(ss,inplace=True)\n"
   ]
  },
  {
   "cell_type": "code",
   "execution_count": 210,
   "metadata": {},
   "outputs": [],
   "source": [
    "#Make redundant categories as one\n",
    "df_ls['Lead Source']=df_ls['Lead Source'].str.replace('google','Google')"
   ]
  },
  {
   "cell_type": "code",
   "execution_count": 211,
   "metadata": {},
   "outputs": [],
   "source": [
    "#Make redundant categories as one\n",
    "df_ls['Lead Source']=df_ls['Lead Source'].str.replace('welearnblog_Home','WeLearn')"
   ]
  },
  {
   "cell_type": "code",
   "execution_count": 212,
   "metadata": {},
   "outputs": [],
   "source": [
    "#Replace missing values under Total Visits with median\n",
    "tv=df_ls.TotalVisits.median()"
   ]
  },
  {
   "cell_type": "code",
   "execution_count": 213,
   "metadata": {},
   "outputs": [],
   "source": [
    "df_ls.TotalVisits.fillna(tv,inplace=True)"
   ]
  },
  {
   "cell_type": "code",
   "execution_count": 214,
   "metadata": {},
   "outputs": [
    {
     "data": {
      "text/plain": [
       "Prospect ID                                         0\n",
       "Lead Number                                         0\n",
       "Lead Origin                                         0\n",
       "Lead Source                                         0\n",
       "Do Not Email                                        0\n",
       "Do Not Call                                         0\n",
       "Converted                                           0\n",
       "TotalVisits                                         0\n",
       "Total Time Spent on Website                         0\n",
       "Page Views Per Visit                              137\n",
       "Last Activity                                     103\n",
       "Country                                          2461\n",
       "Specialization                                   1438\n",
       "How did you hear about X Education               2207\n",
       "What is your current occupation                  2690\n",
       "What matters most to you in choosing a course    2709\n",
       "Search                                              0\n",
       "Magazine                                            0\n",
       "Newspaper Article                                   0\n",
       "X Education Forums                                  0\n",
       "Newspaper                                           0\n",
       "Digital Advertisement                               0\n",
       "Through Recommendations                             0\n",
       "Receive More Updates About Our Courses              0\n",
       "Tags                                             3353\n",
       "Update me on Supply Chain Content                   0\n",
       "Get updates on DM Content                           0\n",
       "Lead Profile                                     2709\n",
       "City                                             1420\n",
       "I agree to pay the amount through cheque            0\n",
       "A free copy of Mastering The Interview              0\n",
       "Last Notable Activity                               0\n",
       "dtype: int64"
      ]
     },
     "execution_count": 214,
     "metadata": {},
     "output_type": "execute_result"
    }
   ],
   "source": [
    "df_ls.isnull().sum()"
   ]
  },
  {
   "cell_type": "code",
   "execution_count": 215,
   "metadata": {},
   "outputs": [],
   "source": [
    "#Replace missing values under Page Views Per Visit with median\n",
    "pv=df_ls['Page Views Per Visit'].median()"
   ]
  },
  {
   "cell_type": "code",
   "execution_count": 216,
   "metadata": {},
   "outputs": [],
   "source": [
    "df_ls['Page Views Per Visit'].fillna(pv,inplace=True)"
   ]
  },
  {
   "cell_type": "code",
   "execution_count": 217,
   "metadata": {},
   "outputs": [],
   "source": [
    "#Replace missing values under Last Activity with most frequent value\n",
    "la=df_ls['Last Activity'].mode()[0]"
   ]
  },
  {
   "cell_type": "code",
   "execution_count": 218,
   "metadata": {},
   "outputs": [],
   "source": [
    "df_ls['Last Activity'].fillna(la,inplace=True)"
   ]
  },
  {
   "cell_type": "code",
   "execution_count": 219,
   "metadata": {},
   "outputs": [],
   "source": [
    "c=df_ls['Country'].mode()[0]"
   ]
  },
  {
   "cell_type": "code",
   "execution_count": 220,
   "metadata": {},
   "outputs": [],
   "source": [
    "df_ls['Country'].fillna(c,inplace=True)"
   ]
  },
  {
   "cell_type": "code",
   "execution_count": 221,
   "metadata": {},
   "outputs": [
    {
     "data": {
      "text/plain": [
       "Select                               1942\n",
       "Finance Management                    976\n",
       "Human Resource Management             848\n",
       "Marketing Management                  838\n",
       "Operations Management                 503\n",
       "Business Administration               403\n",
       "IT Projects Management                366\n",
       "Supply Chain Management               349\n",
       "Banking, Investment And Insurance     338\n",
       "Travel and Tourism                    203\n",
       "Media and Advertising                 203\n",
       "International Business                178\n",
       "Healthcare Management                 159\n",
       "Hospitality Management                114\n",
       "E-COMMERCE                            112\n",
       "Retail Management                     100\n",
       "Rural and Agribusiness                 73\n",
       "E-Business                             57\n",
       "Services Excellence                    40\n",
       "Name: Specialization, dtype: int64"
      ]
     },
     "execution_count": 221,
     "metadata": {},
     "output_type": "execute_result"
    }
   ],
   "source": [
    "df_ls['Specialization'].value_counts()"
   ]
  },
  {
   "cell_type": "code",
   "execution_count": 222,
   "metadata": {},
   "outputs": [],
   "source": [
    "#Replacing Select category with Unknown\n",
    "df_ls['Specialization']=df_ls['Specialization'].str.replace('Select','Unknown')"
   ]
  },
  {
   "cell_type": "code",
   "execution_count": 223,
   "metadata": {},
   "outputs": [],
   "source": [
    "s=df_ls['Specialization'].mode()[0]"
   ]
  },
  {
   "cell_type": "code",
   "execution_count": 224,
   "metadata": {},
   "outputs": [],
   "source": [
    "df_ls['Specialization'].fillna(s,inplace=True)"
   ]
  },
  {
   "cell_type": "code",
   "execution_count": 225,
   "metadata": {},
   "outputs": [
    {
     "data": {
      "text/plain": [
       "Select                   5043\n",
       "Online Search             808\n",
       "Word Of Mouth             348\n",
       "Student of SomeSchool     310\n",
       "Other                     186\n",
       "Multiple Sources          152\n",
       "Advertisements             70\n",
       "Social Media               67\n",
       "Email                      26\n",
       "SMS                        23\n",
       "Name: How did you hear about X Education, dtype: int64"
      ]
     },
     "execution_count": 225,
     "metadata": {},
     "output_type": "execute_result"
    }
   ],
   "source": [
    "df_ls['How did you hear about X Education'].value_counts()"
   ]
  },
  {
   "cell_type": "code",
   "execution_count": 226,
   "metadata": {},
   "outputs": [],
   "source": [
    "#Here most leads come through online search. So, replacing Select category \n",
    "#by next frequent category 'online search'\n",
    "df_ls['How did you hear about X Education']=df_ls['How did you hear about X Education'].str.replace('Select','Online Search')"
   ]
  },
  {
   "cell_type": "code",
   "execution_count": 227,
   "metadata": {},
   "outputs": [],
   "source": [
    "xe=df_ls['How did you hear about X Education'].mode()[0]"
   ]
  },
  {
   "cell_type": "code",
   "execution_count": 228,
   "metadata": {},
   "outputs": [],
   "source": [
    "df_ls['How did you hear about X Education'].fillna(xe,inplace=True)"
   ]
  },
  {
   "cell_type": "code",
   "execution_count": 229,
   "metadata": {},
   "outputs": [
    {
     "data": {
      "text/plain": [
       "Unemployed              5600\n",
       "Working Professional     706\n",
       "Student                  210\n",
       "Other                     16\n",
       "Housewife                 10\n",
       "Businessman                8\n",
       "Name: What is your current occupation, dtype: int64"
      ]
     },
     "execution_count": 229,
     "metadata": {},
     "output_type": "execute_result"
    }
   ],
   "source": [
    "df_ls['What is your current occupation'].value_counts()"
   ]
  },
  {
   "cell_type": "code",
   "execution_count": 230,
   "metadata": {},
   "outputs": [],
   "source": [
    "co=df_ls['What is your current occupation'].mode()[0]"
   ]
  },
  {
   "cell_type": "code",
   "execution_count": 231,
   "metadata": {},
   "outputs": [],
   "source": [
    "df_ls['What is your current occupation'].fillna(co,inplace=True)"
   ]
  },
  {
   "cell_type": "code",
   "execution_count": 232,
   "metadata": {},
   "outputs": [
    {
     "data": {
      "text/plain": [
       "Better Career Prospects      6528\n",
       "Flexibility & Convenience       2\n",
       "Other                           1\n",
       "Name: What matters most to you in choosing a course, dtype: int64"
      ]
     },
     "execution_count": 232,
     "metadata": {},
     "output_type": "execute_result"
    }
   ],
   "source": [
    "df_ls['What matters most to you in choosing a course'].value_counts()"
   ]
  },
  {
   "cell_type": "code",
   "execution_count": 233,
   "metadata": {},
   "outputs": [],
   "source": [
    "cc=df_ls['What matters most to you in choosing a course'].mode()[0]"
   ]
  },
  {
   "cell_type": "code",
   "execution_count": 234,
   "metadata": {},
   "outputs": [],
   "source": [
    "df_ls['What matters most to you in choosing a course'].fillna(cc,inplace=True)"
   ]
  },
  {
   "cell_type": "code",
   "execution_count": 235,
   "metadata": {},
   "outputs": [
    {
     "data": {
      "text/plain": [
       "Will revert after reading the email                  2072\n",
       "Ringing                                              1203\n",
       "Interested in other courses                           513\n",
       "Already a student                                     465\n",
       "Closed by Horizzon                                    358\n",
       "switched off                                          240\n",
       "Busy                                                  186\n",
       "Lost to EINS                                          175\n",
       "Not doing further education                           145\n",
       "Interested  in full time MBA                          117\n",
       "Graduation in progress                                111\n",
       "invalid number                                         83\n",
       "Diploma holder (Not Eligible)                          63\n",
       "wrong number given                                     47\n",
       "opp hangup                                             33\n",
       "number not provided                                    27\n",
       "in touch with EINS                                     12\n",
       "Lost to Others                                          7\n",
       "Want to take admission but has financial problems       6\n",
       "Still Thinking                                          6\n",
       "Interested in Next batch                                5\n",
       "In confusion whether part time or DLP                   5\n",
       "Lateral student                                         3\n",
       "University not recognized                               2\n",
       "Shall take in the next coming month                     2\n",
       "Recognition issue (DEC approval)                        1\n",
       "Name: Tags, dtype: int64"
      ]
     },
     "execution_count": 235,
     "metadata": {},
     "output_type": "execute_result"
    }
   ],
   "source": [
    "df_ls['Tags'].value_counts()"
   ]
  },
  {
   "cell_type": "code",
   "execution_count": 236,
   "metadata": {},
   "outputs": [],
   "source": [
    "t=df_ls['Tags'].mode()[0]"
   ]
  },
  {
   "cell_type": "code",
   "execution_count": 237,
   "metadata": {},
   "outputs": [],
   "source": [
    "df_ls['Tags'].fillna(t,inplace=True)"
   ]
  },
  {
   "cell_type": "code",
   "execution_count": 238,
   "metadata": {},
   "outputs": [
    {
     "data": {
      "text/plain": [
       "Select                         4146\n",
       "Potential Lead                 1613\n",
       "Other Leads                     487\n",
       "Student of SomeSchool           241\n",
       "Lateral Student                  24\n",
       "Dual Specialization Student      20\n",
       "Name: Lead Profile, dtype: int64"
      ]
     },
     "execution_count": 238,
     "metadata": {},
     "output_type": "execute_result"
    }
   ],
   "source": [
    "df_ls['Lead Profile'].value_counts()  "
   ]
  },
  {
   "cell_type": "code",
   "execution_count": 239,
   "metadata": {},
   "outputs": [],
   "source": [
    "#As lead profile is of importance to not waste time on unnecessary calls, 'select' category can be treated as\n",
    "#a special category where the lead profile is neutral\n",
    "#So lets replace the missing values with select itself\n",
    "\n",
    "lp=df_ls['Lead Profile'].mode()[0]"
   ]
  },
  {
   "cell_type": "code",
   "execution_count": 240,
   "metadata": {},
   "outputs": [],
   "source": [
    "df_ls['Lead Profile'].fillna(lp,inplace=True)"
   ]
  },
  {
   "cell_type": "code",
   "execution_count": 241,
   "metadata": {},
   "outputs": [],
   "source": [
    "#Lets replace 'Select' category with 'Neutral' to make it more meaningful\n",
    "df_ls['Lead Profile']=df_ls['Lead Profile'].str.replace('Select','Neutral')"
   ]
  },
  {
   "cell_type": "code",
   "execution_count": 242,
   "metadata": {},
   "outputs": [
    {
     "data": {
      "text/plain": [
       "Mumbai                         3222\n",
       "Select                         2249\n",
       "Thane & Outskirts               752\n",
       "Other Cities                    686\n",
       "Other Cities of Maharashtra     457\n",
       "Other Metro Cities              380\n",
       "Tier II Cities                   74\n",
       "Name: City, dtype: int64"
      ]
     },
     "execution_count": 242,
     "metadata": {},
     "output_type": "execute_result"
    }
   ],
   "source": [
    "df_ls['City'].value_counts()"
   ]
  },
  {
   "cell_type": "code",
   "execution_count": 243,
   "metadata": {},
   "outputs": [],
   "source": [
    "df_ls['City']=df_ls['City'].str.replace('Select','Unknown')"
   ]
  },
  {
   "cell_type": "code",
   "execution_count": 244,
   "metadata": {},
   "outputs": [],
   "source": [
    "cy=df_ls['City'].mode()[0]"
   ]
  },
  {
   "cell_type": "code",
   "execution_count": 245,
   "metadata": {},
   "outputs": [],
   "source": [
    "df_ls['City'].fillna(cy,inplace=True)"
   ]
  },
  {
   "cell_type": "code",
   "execution_count": 246,
   "metadata": {},
   "outputs": [],
   "source": [
    "#Prospect ID and Lead Number serve the same purpose. So dropping the Prospect ID with complex pattern\n",
    "df_ls.drop(['Prospect ID'],axis=1,inplace=True)"
   ]
  },
  {
   "cell_type": "markdown",
   "metadata": {},
   "source": [
    "### Dropping biased columns having same value throughout"
   ]
  },
  {
   "cell_type": "markdown",
   "metadata": {},
   "source": [
    "#### If any column in the dataset is having the same values, we can drop that column as it will not help to differentiate between two different labels while on the other hand, it can even negatively affect the model by imposing a bias in the data."
   ]
  },
  {
   "cell_type": "code",
   "execution_count": 247,
   "metadata": {},
   "outputs": [
    {
     "data": {
      "text/plain": [
       "No    9240\n",
       "Name: Magazine, dtype: int64"
      ]
     },
     "execution_count": 247,
     "metadata": {},
     "output_type": "execute_result"
    }
   ],
   "source": [
    "df_ls['Magazine'].value_counts()"
   ]
  },
  {
   "cell_type": "code",
   "execution_count": 248,
   "metadata": {},
   "outputs": [
    {
     "data": {
      "text/plain": [
       "No    9240\n",
       "Name: Receive More Updates About Our Courses, dtype: int64"
      ]
     },
     "execution_count": 248,
     "metadata": {},
     "output_type": "execute_result"
    }
   ],
   "source": [
    "df_ls['Receive More Updates About Our Courses'].value_counts()"
   ]
  },
  {
   "cell_type": "code",
   "execution_count": 249,
   "metadata": {},
   "outputs": [
    {
     "data": {
      "text/plain": [
       "No    9240\n",
       "Name: Update me on Supply Chain Content, dtype: int64"
      ]
     },
     "execution_count": 249,
     "metadata": {},
     "output_type": "execute_result"
    }
   ],
   "source": [
    "df_ls['Update me on Supply Chain Content'].value_counts()"
   ]
  },
  {
   "cell_type": "code",
   "execution_count": 250,
   "metadata": {},
   "outputs": [
    {
     "data": {
      "text/plain": [
       "No    9240\n",
       "Name: Get updates on DM Content, dtype: int64"
      ]
     },
     "execution_count": 250,
     "metadata": {},
     "output_type": "execute_result"
    }
   ],
   "source": [
    "df_ls['Get updates on DM Content'].value_counts()"
   ]
  },
  {
   "cell_type": "code",
   "execution_count": 251,
   "metadata": {},
   "outputs": [
    {
     "data": {
      "text/plain": [
       "No    9240\n",
       "Name: I agree to pay the amount through cheque, dtype: int64"
      ]
     },
     "execution_count": 251,
     "metadata": {},
     "output_type": "execute_result"
    }
   ],
   "source": [
    "df_ls['I agree to pay the amount through cheque'].value_counts()"
   ]
  },
  {
   "cell_type": "code",
   "execution_count": 252,
   "metadata": {},
   "outputs": [],
   "source": [
    "df_ls.drop(['Magazine','Receive More Updates About Our Courses','Update me on Supply Chain Content',\n",
    "           'Get updates on DM Content','I agree to pay the amount through cheque'],axis=1,inplace=True)"
   ]
  },
  {
   "cell_type": "code",
   "execution_count": 253,
   "metadata": {},
   "outputs": [
    {
     "data": {
      "text/plain": [
       "Lead Number                                      0\n",
       "Lead Origin                                      0\n",
       "Lead Source                                      0\n",
       "Do Not Email                                     0\n",
       "Do Not Call                                      0\n",
       "Converted                                        0\n",
       "TotalVisits                                      0\n",
       "Total Time Spent on Website                      0\n",
       "Page Views Per Visit                             0\n",
       "Last Activity                                    0\n",
       "Country                                          0\n",
       "Specialization                                   0\n",
       "How did you hear about X Education               0\n",
       "What is your current occupation                  0\n",
       "What matters most to you in choosing a course    0\n",
       "Search                                           0\n",
       "Newspaper Article                                0\n",
       "X Education Forums                               0\n",
       "Newspaper                                        0\n",
       "Digital Advertisement                            0\n",
       "Through Recommendations                          0\n",
       "Tags                                             0\n",
       "Lead Profile                                     0\n",
       "City                                             0\n",
       "A free copy of Mastering The Interview           0\n",
       "Last Notable Activity                            0\n",
       "dtype: int64"
      ]
     },
     "execution_count": 253,
     "metadata": {},
     "output_type": "execute_result"
    }
   ],
   "source": [
    "#All the null values have been treated\n",
    "\n",
    "df_ls.isnull().sum()"
   ]
  },
  {
   "cell_type": "code",
   "execution_count": 254,
   "metadata": {},
   "outputs": [
    {
     "data": {
      "text/plain": [
       "(9240, 26)"
      ]
     },
     "execution_count": 254,
     "metadata": {},
     "output_type": "execute_result"
    }
   ],
   "source": [
    "df_ls.shape"
   ]
  },
  {
   "cell_type": "markdown",
   "metadata": {},
   "source": [
    "# EDA"
   ]
  },
  {
   "cell_type": "markdown",
   "metadata": {},
   "source": [
    "## Univariate and Bi-Variate Analysis"
   ]
  },
  {
   "cell_type": "code",
   "execution_count": 255,
   "metadata": {},
   "outputs": [
    {
     "name": "stdout",
     "output_type": "stream",
     "text": [
      "<class 'pandas.core.frame.DataFrame'>\n",
      "RangeIndex: 9240 entries, 0 to 9239\n",
      "Data columns (total 26 columns):\n",
      " #   Column                                         Non-Null Count  Dtype  \n",
      "---  ------                                         --------------  -----  \n",
      " 0   Lead Number                                    9240 non-null   int64  \n",
      " 1   Lead Origin                                    9240 non-null   object \n",
      " 2   Lead Source                                    9240 non-null   object \n",
      " 3   Do Not Email                                   9240 non-null   object \n",
      " 4   Do Not Call                                    9240 non-null   object \n",
      " 5   Converted                                      9240 non-null   int64  \n",
      " 6   TotalVisits                                    9240 non-null   float64\n",
      " 7   Total Time Spent on Website                    9240 non-null   int64  \n",
      " 8   Page Views Per Visit                           9240 non-null   float64\n",
      " 9   Last Activity                                  9240 non-null   object \n",
      " 10  Country                                        9240 non-null   object \n",
      " 11  Specialization                                 9240 non-null   object \n",
      " 12  How did you hear about X Education             9240 non-null   object \n",
      " 13  What is your current occupation                9240 non-null   object \n",
      " 14  What matters most to you in choosing a course  9240 non-null   object \n",
      " 15  Search                                         9240 non-null   object \n",
      " 16  Newspaper Article                              9240 non-null   object \n",
      " 17  X Education Forums                             9240 non-null   object \n",
      " 18  Newspaper                                      9240 non-null   object \n",
      " 19  Digital Advertisement                          9240 non-null   object \n",
      " 20  Through Recommendations                        9240 non-null   object \n",
      " 21  Tags                                           9240 non-null   object \n",
      " 22  Lead Profile                                   9240 non-null   object \n",
      " 23  City                                           9240 non-null   object \n",
      " 24  A free copy of Mastering The Interview         9240 non-null   object \n",
      " 25  Last Notable Activity                          9240 non-null   object \n",
      "dtypes: float64(2), int64(3), object(21)\n",
      "memory usage: 1.8+ MB\n"
     ]
    }
   ],
   "source": [
    "df_ls.info()"
   ]
  },
  {
   "cell_type": "code",
   "execution_count": 256,
   "metadata": {},
   "outputs": [
    {
     "data": {
      "text/html": [
       "<div>\n",
       "<style scoped>\n",
       "    .dataframe tbody tr th:only-of-type {\n",
       "        vertical-align: middle;\n",
       "    }\n",
       "\n",
       "    .dataframe tbody tr th {\n",
       "        vertical-align: top;\n",
       "    }\n",
       "\n",
       "    .dataframe thead th {\n",
       "        text-align: right;\n",
       "    }\n",
       "</style>\n",
       "<table border=\"1\" class=\"dataframe\">\n",
       "  <thead>\n",
       "    <tr style=\"text-align: right;\">\n",
       "      <th></th>\n",
       "      <th>Lead Number</th>\n",
       "      <th>Converted</th>\n",
       "      <th>TotalVisits</th>\n",
       "      <th>Total Time Spent on Website</th>\n",
       "      <th>Page Views Per Visit</th>\n",
       "    </tr>\n",
       "  </thead>\n",
       "  <tbody>\n",
       "    <tr>\n",
       "      <th>count</th>\n",
       "      <td>9240.000000</td>\n",
       "      <td>9240.000000</td>\n",
       "      <td>9240.000000</td>\n",
       "      <td>9240.000000</td>\n",
       "      <td>9240.000000</td>\n",
       "    </tr>\n",
       "    <tr>\n",
       "      <th>mean</th>\n",
       "      <td>617188.435606</td>\n",
       "      <td>0.385390</td>\n",
       "      <td>3.438636</td>\n",
       "      <td>487.698268</td>\n",
       "      <td>2.357440</td>\n",
       "    </tr>\n",
       "    <tr>\n",
       "      <th>std</th>\n",
       "      <td>23405.995698</td>\n",
       "      <td>0.486714</td>\n",
       "      <td>4.819024</td>\n",
       "      <td>548.021466</td>\n",
       "      <td>2.145781</td>\n",
       "    </tr>\n",
       "    <tr>\n",
       "      <th>min</th>\n",
       "      <td>579533.000000</td>\n",
       "      <td>0.000000</td>\n",
       "      <td>0.000000</td>\n",
       "      <td>0.000000</td>\n",
       "      <td>0.000000</td>\n",
       "    </tr>\n",
       "    <tr>\n",
       "      <th>25%</th>\n",
       "      <td>596484.500000</td>\n",
       "      <td>0.000000</td>\n",
       "      <td>1.000000</td>\n",
       "      <td>12.000000</td>\n",
       "      <td>1.000000</td>\n",
       "    </tr>\n",
       "    <tr>\n",
       "      <th>50%</th>\n",
       "      <td>615479.000000</td>\n",
       "      <td>0.000000</td>\n",
       "      <td>3.000000</td>\n",
       "      <td>248.000000</td>\n",
       "      <td>2.000000</td>\n",
       "    </tr>\n",
       "    <tr>\n",
       "      <th>75%</th>\n",
       "      <td>637387.250000</td>\n",
       "      <td>1.000000</td>\n",
       "      <td>5.000000</td>\n",
       "      <td>936.000000</td>\n",
       "      <td>3.000000</td>\n",
       "    </tr>\n",
       "    <tr>\n",
       "      <th>max</th>\n",
       "      <td>660737.000000</td>\n",
       "      <td>1.000000</td>\n",
       "      <td>251.000000</td>\n",
       "      <td>2272.000000</td>\n",
       "      <td>55.000000</td>\n",
       "    </tr>\n",
       "  </tbody>\n",
       "</table>\n",
       "</div>"
      ],
      "text/plain": [
       "         Lead Number    Converted  TotalVisits  Total Time Spent on Website  \\\n",
       "count    9240.000000  9240.000000  9240.000000                  9240.000000   \n",
       "mean   617188.435606     0.385390     3.438636                   487.698268   \n",
       "std     23405.995698     0.486714     4.819024                   548.021466   \n",
       "min    579533.000000     0.000000     0.000000                     0.000000   \n",
       "25%    596484.500000     0.000000     1.000000                    12.000000   \n",
       "50%    615479.000000     0.000000     3.000000                   248.000000   \n",
       "75%    637387.250000     1.000000     5.000000                   936.000000   \n",
       "max    660737.000000     1.000000   251.000000                  2272.000000   \n",
       "\n",
       "       Page Views Per Visit  \n",
       "count           9240.000000  \n",
       "mean               2.357440  \n",
       "std                2.145781  \n",
       "min                0.000000  \n",
       "25%                1.000000  \n",
       "50%                2.000000  \n",
       "75%                3.000000  \n",
       "max               55.000000  "
      ]
     },
     "execution_count": 256,
     "metadata": {},
     "output_type": "execute_result"
    }
   ],
   "source": [
    "df_ls.describe()"
   ]
  },
  {
   "cell_type": "code",
   "execution_count": 257,
   "metadata": {},
   "outputs": [
    {
     "data": {
      "text/html": [
       "<div>\n",
       "<style scoped>\n",
       "    .dataframe tbody tr th:only-of-type {\n",
       "        vertical-align: middle;\n",
       "    }\n",
       "\n",
       "    .dataframe tbody tr th {\n",
       "        vertical-align: top;\n",
       "    }\n",
       "\n",
       "    .dataframe thead th {\n",
       "        text-align: right;\n",
       "    }\n",
       "</style>\n",
       "<table border=\"1\" class=\"dataframe\">\n",
       "  <thead>\n",
       "    <tr style=\"text-align: right;\">\n",
       "      <th></th>\n",
       "      <th>Lead Number</th>\n",
       "      <th>Converted</th>\n",
       "      <th>TotalVisits</th>\n",
       "      <th>Total Time Spent on Website</th>\n",
       "      <th>Page Views Per Visit</th>\n",
       "    </tr>\n",
       "  </thead>\n",
       "  <tbody>\n",
       "    <tr>\n",
       "      <th>Lead Number</th>\n",
       "      <td>1.000000</td>\n",
       "      <td>0.025157</td>\n",
       "      <td>0.021366</td>\n",
       "      <td>0.020329</td>\n",
       "      <td>0.057042</td>\n",
       "    </tr>\n",
       "    <tr>\n",
       "      <th>Converted</th>\n",
       "      <td>0.025157</td>\n",
       "      <td>1.000000</td>\n",
       "      <td>0.029119</td>\n",
       "      <td>0.362483</td>\n",
       "      <td>-0.005068</td>\n",
       "    </tr>\n",
       "    <tr>\n",
       "      <th>TotalVisits</th>\n",
       "      <td>0.021366</td>\n",
       "      <td>0.029119</td>\n",
       "      <td>1.000000</td>\n",
       "      <td>0.217341</td>\n",
       "      <td>0.512214</td>\n",
       "    </tr>\n",
       "    <tr>\n",
       "      <th>Total Time Spent on Website</th>\n",
       "      <td>0.020329</td>\n",
       "      <td>0.362483</td>\n",
       "      <td>0.217341</td>\n",
       "      <td>1.000000</td>\n",
       "      <td>0.314266</td>\n",
       "    </tr>\n",
       "    <tr>\n",
       "      <th>Page Views Per Visit</th>\n",
       "      <td>0.057042</td>\n",
       "      <td>-0.005068</td>\n",
       "      <td>0.512214</td>\n",
       "      <td>0.314266</td>\n",
       "      <td>1.000000</td>\n",
       "    </tr>\n",
       "  </tbody>\n",
       "</table>\n",
       "</div>"
      ],
      "text/plain": [
       "                             Lead Number  Converted  TotalVisits  \\\n",
       "Lead Number                     1.000000   0.025157     0.021366   \n",
       "Converted                       0.025157   1.000000     0.029119   \n",
       "TotalVisits                     0.021366   0.029119     1.000000   \n",
       "Total Time Spent on Website     0.020329   0.362483     0.217341   \n",
       "Page Views Per Visit            0.057042  -0.005068     0.512214   \n",
       "\n",
       "                             Total Time Spent on Website  Page Views Per Visit  \n",
       "Lead Number                                     0.020329              0.057042  \n",
       "Converted                                       0.362483             -0.005068  \n",
       "TotalVisits                                     0.217341              0.512214  \n",
       "Total Time Spent on Website                     1.000000              0.314266  \n",
       "Page Views Per Visit                            0.314266              1.000000  "
      ]
     },
     "execution_count": 257,
     "metadata": {},
     "output_type": "execute_result"
    }
   ],
   "source": [
    "df_ls.corr()"
   ]
  },
  {
   "cell_type": "code",
   "execution_count": 258,
   "metadata": {},
   "outputs": [
    {
     "data": {
      "image/png": "[encoded data removed]",
      "text/plain": [
       "<Figure size 432x288 with 1 Axes>"
      ]
     },
     "metadata": {
      "needs_background": "light"
     },
     "output_type": "display_data"
    }
   ],
   "source": [
    "#Frequency of lead Origin\n",
    "df_ls['Lead Origin'].value_counts().plot.bar()\n",
    "plt.title(\"Frequency of Lead Origin\")\n",
    "plt.show()\n",
    "#Observation: More leads are from landing page submission"
   ]
  },
  {
   "cell_type": "code",
   "execution_count": 259,
   "metadata": {},
   "outputs": [
    {
     "data": {
      "image/png": "[encoded data removed]",
      "text/plain": [
       "<Figure size 432x288 with 1 Axes>"
      ]
     },
     "metadata": {
      "needs_background": "light"
     },
     "output_type": "display_data"
    }
   ],
   "source": [
    "#Frequency of lead Source\n",
    "df_ls['Lead Source'].value_counts().plot.bar()\n",
    "plt.title(\"Frequency of Lead Source\")\n",
    "plt.show()\n",
    "#Observation: Google is the top most lead source"
   ]
  },
  {
   "cell_type": "code",
   "execution_count": 260,
   "metadata": {},
   "outputs": [
    {
     "data": {
      "image/png": "[encoded data removed]",
      "text/plain": [
       "<Figure size 432x288 with 1 Axes>"
      ]
     },
     "metadata": {
      "needs_background": "light"
     },
     "output_type": "display_data"
    }
   ],
   "source": [
    "#Percentage of aspirants from various cities\n",
    "df_ls['City'].value_counts(normalize=True).plot.bar()\n",
    "plt.title(\"Percentage of aspirants from various cities\")\n",
    "plt.show()\n",
    "#Observation: Most of the leads are from Mumbai"
   ]
  },
  {
   "cell_type": "code",
   "execution_count": 261,
   "metadata": {},
   "outputs": [
    {
     "data": {
      "image/png": "[encoded data removed]",
      "text/plain": [
       "<Figure size 360x360 with 1 Axes>"
      ]
     },
     "metadata": {},
     "output_type": "display_data"
    }
   ],
   "source": [
    "#Analysis of lead conversion class balance\n",
    "plt.figure(figsize=(5,5))\n",
    "lab=['Negative', 'Positive']\n",
    "plt.title(\"Lead conversion percentage\")\n",
    "df_ls.groupby(['Converted'])['Lead Number'].count().plot.pie(labels=lab,autopct='%1.2f%%')\n",
    "plt.ylabel(\"\")\n",
    "plt.legend(loc=\"lower left\",bbox_to_anchor=(1,-0.10))\n",
    "plt.show()\n",
    "#Observation: There is only 38.54% lead conversion"
   ]
  },
  {
   "cell_type": "markdown",
   "metadata": {},
   "source": [
    "## Visualization of various channels of enquiry by leads"
   ]
  },
  {
   "cell_type": "code",
   "execution_count": 262,
   "metadata": {},
   "outputs": [
    {
     "data": {
      "text/plain": [
       "[14, 2, 1, 1, 4, 7]"
      ]
     },
     "execution_count": 262,
     "metadata": {},
     "output_type": "execute_result"
    }
   ],
   "source": [
    "#Getting the number of lead enquiries through various channels\n",
    "li=['Search', 'Newspaper Article', 'X Education Forums', 'Newspaper',\n",
    "    'Digital Advertisement', 'Through Recommendations']\n",
    "li1=[]\n",
    "for i in li:\n",
    "    li1.append(df_ls[i].value_counts()[1])\n",
    "li1"
   ]
  },
  {
   "cell_type": "code",
   "execution_count": 263,
   "metadata": {},
   "outputs": [
    {
     "data": {
      "image/png": "[encoded data removed]",
      "text/plain": [
       "<Figure size 432x288 with 1 Axes>"
      ]
     },
     "metadata": {},
     "output_type": "display_data"
    }
   ],
   "source": [
    "#Distribution of lead enquiries through various channels\n",
    "lab=['Search', 'Newspaper Article', 'X Education Forums', 'Newspaper',\n",
    "    'Digital Advertisement', 'Through Recommendations']\n",
    "plt.title(\"Usage of various enquiry channels by leads\")\n",
    "plt.pie(li1,labels=lab,autopct='%1.2f%%')\n",
    "plt.ylabel(\"\")\n",
    "plt.legend(loc=\"upper left\",bbox_to_anchor=(0.5,0.10))\n",
    "plt.show()\n",
    "#Observation: 'Search' followed by 'Recommendations' and 'Digital Advertisement' \n",
    "#works out to be better channels for the leads"
   ]
  },
  {
   "cell_type": "code",
   "execution_count": 264,
   "metadata": {},
   "outputs": [
    {
     "data": {
      "image/png": "[encoded data removed]",
      "text/plain": [
       "<Figure size 576x360 with 1 Axes>"
      ]
     },
     "metadata": {
      "needs_background": "light"
     },
     "output_type": "display_data"
    }
   ],
   "source": [
    "#Lead conversion percentage with various motives\n",
    "plt.figure(figsize=(8,5))\n",
    "ax=sns.countplot(data=df_ls,x='Converted',hue='What matters most to you in choosing a course')\n",
    "plt.title(\"Lead conversion percentage with various motives\")\n",
    "\n",
    "plt.xlabel('Lead Conversion')\n",
    "x=[0,1]\n",
    "labels=['Negative','Positive']\n",
    "plt.xticks(x,labels)\n",
    "plt.legend(loc=\"upper right\")\n",
    "total=df_ls.shape[0]\n",
    "\n",
    "for p in ax.patches:\n",
    "    percentage = '{:.1f}%'.format(100 * p.get_height()/total)\n",
    "    x = p.get_x()-0.05 + p.get_width()\n",
    "    y = p.get_height()\n",
    "    ax.annotate(percentage, (x, y),ha='center')\n",
    "    \n",
    "plt.show()\n",
    "#Observation: All the leads landed with a motive to achieve better career prospects"
   ]
  },
  {
   "cell_type": "code",
   "execution_count": 265,
   "metadata": {},
   "outputs": [
    {
     "data": {
      "image/png": "[encoded data removed]",
      "text/plain": [
       "<Figure size 576x360 with 1 Axes>"
      ]
     },
     "metadata": {
      "needs_background": "light"
     },
     "output_type": "display_data"
    }
   ],
   "source": [
    "#Lead profile percentage \n",
    "plt.figure(figsize=(8,5))\n",
    "ax=sns.countplot(data=df_ls,x='Converted',hue='Lead Profile')\n",
    "plt.title(\"Lead profile percentage for follow up\")\n",
    "\n",
    "plt.xlabel('Lead Conversion')\n",
    "x=[0,1]\n",
    "labels=['Negative','Positive']\n",
    "plt.xticks(x,labels)\n",
    "plt.legend(loc=\"upper right\")\n",
    "total=df_ls.shape[0]\n",
    "\n",
    "for p in ax.patches:\n",
    "    percentage = '{:.1f}%'.format(100 * p.get_height()/total)\n",
    "    x = p.get_x()-0.05 + p.get_width()\n",
    "    y = p.get_height()\n",
    "    ax.annotate(percentage, (x, y),ha='center')\n",
    "    \n",
    "plt.show()\n",
    "#Observation: There are 22.3% leads with neutral attitude and 13.7% leads that are \n",
    "#potential leads who actually converted to be positive leads"
   ]
  },
  {
   "cell_type": "markdown",
   "metadata": {},
   "source": [
    "## Outlier analysis"
   ]
  },
  {
   "cell_type": "code",
   "execution_count": 266,
   "metadata": {},
   "outputs": [
    {
     "name": "stdout",
     "output_type": "stream",
     "text": [
      "<class 'pandas.core.frame.DataFrame'>\n",
      "RangeIndex: 9240 entries, 0 to 9239\n",
      "Data columns (total 26 columns):\n",
      " #   Column                                         Non-Null Count  Dtype  \n",
      "---  ------                                         --------------  -----  \n",
      " 0   Lead Number                                    9240 non-null   int64  \n",
      " 1   Lead Origin                                    9240 non-null   object \n",
      " 2   Lead Source                                    9240 non-null   object \n",
      " 3   Do Not Email                                   9240 non-null   object \n",
      " 4   Do Not Call                                    9240 non-null   object \n",
      " 5   Converted                                      9240 non-null   int64  \n",
      " 6   TotalVisits                                    9240 non-null   float64\n",
      " 7   Total Time Spent on Website                    9240 non-null   int64  \n",
      " 8   Page Views Per Visit                           9240 non-null   float64\n",
      " 9   Last Activity                                  9240 non-null   object \n",
      " 10  Country                                        9240 non-null   object \n",
      " 11  Specialization                                 9240 non-null   object \n",
      " 12  How did you hear about X Education             9240 non-null   object \n",
      " 13  What is your current occupation                9240 non-null   object \n",
      " 14  What matters most to you in choosing a course  9240 non-null   object \n",
      " 15  Search                                         9240 non-null   object \n",
      " 16  Newspaper Article                              9240 non-null   object \n",
      " 17  X Education Forums                             9240 non-null   object \n",
      " 18  Newspaper                                      9240 non-null   object \n",
      " 19  Digital Advertisement                          9240 non-null   object \n",
      " 20  Through Recommendations                        9240 non-null   object \n",
      " 21  Tags                                           9240 non-null   object \n",
      " 22  Lead Profile                                   9240 non-null   object \n",
      " 23  City                                           9240 non-null   object \n",
      " 24  A free copy of Mastering The Interview         9240 non-null   object \n",
      " 25  Last Notable Activity                          9240 non-null   object \n",
      "dtypes: float64(2), int64(3), object(21)\n",
      "memory usage: 1.8+ MB\n"
     ]
    }
   ],
   "source": [
    "df_ls.info()"
   ]
  },
  {
   "cell_type": "code",
   "execution_count": 267,
   "metadata": {},
   "outputs": [
    {
     "data": {
      "image/png": "[encoded data removed]",
      "text/plain": [
       "<Figure size 432x288 with 1 Axes>"
      ]
     },
     "metadata": {
      "needs_background": "light"
     },
     "output_type": "display_data"
    }
   ],
   "source": [
    "#Distribution of Total visits of the leads \n",
    "sns.boxplot(df_ls['TotalVisits'])\n",
    "plt.xticks(rotation=45)\n",
    "plt.title(\"Distribution of Total Visits of the Leads\")\n",
    "plt.show()\n",
    "#Observation: There are outliers in total visits of the leads, scaling required."
   ]
  },
  {
   "cell_type": "code",
   "execution_count": 268,
   "metadata": {},
   "outputs": [
    {
     "data": {
      "image/png": "[encoded data removed]",
      "text/plain": [
       "<Figure size 432x288 with 1 Axes>"
      ]
     },
     "metadata": {
      "needs_background": "light"
     },
     "output_type": "display_data"
    }
   ],
   "source": [
    "#Distribution of Total time spent by leads on the website \n",
    "sns.boxplot(df_ls['Total Time Spent on Website'])\n",
    "plt.xticks(rotation=45)\n",
    "plt.title(\"Distribution of Total Time Spent on Website\")\n",
    "plt.show()\n",
    "#Observation: The median of the total time spent is musch lesser than \n",
    "#the maximum value, scaling required"
   ]
  },
  {
   "cell_type": "code",
   "execution_count": 269,
   "metadata": {},
   "outputs": [
    {
     "data": {
      "image/png": "[encoded data removed]",
      "text/plain": [
       "<Figure size 432x288 with 1 Axes>"
      ]
     },
     "metadata": {
      "needs_background": "light"
     },
     "output_type": "display_data"
    }
   ],
   "source": [
    "#Distribution of Page views per visit by leads \n",
    "sns.boxplot(df_ls['Page Views Per Visit'])\n",
    "plt.xticks(rotation=45)\n",
    "plt.title(\"Distribution of page views per visit\")\n",
    "plt.show()\n",
    "#Observation: There are outliers in page views per visit by leads, scaling required."
   ]
  },
  {
   "cell_type": "code",
   "execution_count": 272,
   "metadata": {},
   "outputs": [
    {
     "data": {
      "image/png": "[encoded data removed]",
      "text/plain": [
       "<Figure size 720x360 with 2 Axes>"
      ]
     },
     "metadata": {
      "needs_background": "light"
     },
     "output_type": "display_data"
    }
   ],
   "source": [
    "#Positive Leads Vs. their Specialization and Current Occupation\n",
    "plt.figure(figsize=(10,5))\n",
    "plt.suptitle(\"Positive Leads Vs. Specialization and Current Occupation\")\n",
    "plt.subplot(1,2,1)\n",
    "df_ls.groupby(['Specialization'])['Converted'].mean().plot.bar(color='Green')\n",
    "plt.xlabel('Specialization of Leads')\n",
    "plt.ylabel(\"Ratio of clients\")\n",
    "plt.subplot(1,2,2)\n",
    "df_ls.groupby(['What is your current occupation'])['Converted'].mean().plot.bar()\n",
    "plt.xlabel('Current Occupation of Leads')\n",
    "plt.ylabel(\"Ratio of clients\")\n",
    "plt.show()\n",
    "#Observation: Most of the leads are from banking and insurance, and healthcare management domains\n",
    "#Most of them are currently working professionals and housewives"
   ]
  },
  {
   "cell_type": "code",
   "execution_count": 273,
   "metadata": {},
   "outputs": [
    {
     "data": {
      "image/png": "[encoded data removed]",
      "text/plain": [
       "<Figure size 720x360 with 2 Axes>"
      ]
     },
     "metadata": {
      "needs_background": "light"
     },
     "output_type": "display_data"
    }
   ],
   "source": [
    "#Positive Leads Vs. their tags and lead profiles assigned\n",
    "plt.figure(figsize=(10,5))\n",
    "plt.suptitle(\"Positive Leads Vs. Tags and Lead Profile\")\n",
    "plt.subplot(1,2,1)\n",
    "df_ls.groupby(['Tags'])['Converted'].mean().plot.bar(color='Blue')\n",
    "plt.xlabel('Tags given to leads')\n",
    "plt.ylabel(\"Ratio of clients\")\n",
    "plt.subplot(1,2,2)\n",
    "df_ls.groupby(['Lead Profile'])['Converted'].mean().plot.bar()\n",
    "plt.xlabel('Lead profile assigned to leads')\n",
    "plt.ylabel(\"Ratio of clients\")\n",
    "plt.show()\n",
    "#Observation:Interested in next batch and lateral students are the tags frequently given\n",
    "#Dual specialization and lateral student are the top lead profiles"
   ]
  },
  {
   "cell_type": "code",
   "execution_count": 274,
   "metadata": {},
   "outputs": [
    {
     "data": {
      "image/png": "[encoded data removed]",
      "text/plain": [
       "<Figure size 720x360 with 2 Axes>"
      ]
     },
     "metadata": {
      "needs_background": "light"
     },
     "output_type": "display_data"
    }
   ],
   "source": [
    "#Positive Leads Vs. their Opted for free content and last notable activity\n",
    "plt.figure(figsize=(10,5))\n",
    "plt.suptitle(\"Positive Leads Vs. Opted for free content and Last notable activity\")\n",
    "plt.subplot(1,2,1)\n",
    "df_ls.groupby(['A free copy of Mastering The Interview'])['Converted'].mean().plot.bar(color='Green')\n",
    "plt.xlabel('Opted for free content')\n",
    "plt.ylabel(\"Ratio of clients\")\n",
    "plt.subplot(1,2,2)\n",
    "df_ls.groupby(['Last Notable Activity'])['Converted'].mean().plot.bar()\n",
    "plt.xlabel('Last notable activity')\n",
    "plt.ylabel(\"Ratio of clients\")\n",
    "plt.show()\n",
    "#Observation:Most of the positive leads didn't opt for free content\n",
    "#Approached upfront and resubscribed to emails are some among the frequent last notable activities"
   ]
  },
  {
   "cell_type": "code",
   "execution_count": 275,
   "metadata": {},
   "outputs": [
    {
     "data": {
      "image/png": "[encoded data removed]",
      "text/plain": [
       "<Figure size 540x540 with 12 Axes>"
      ]
     },
     "metadata": {
      "needs_background": "light"
     },
     "output_type": "display_data"
    }
   ],
   "source": [
    "#Scatter plots to understand the correlation between the numerical variables\n",
    "sns.pairplot(data=df_ls,vars=['TotalVisits','Total Time Spent on Website','Page Views Per Visit'])\n",
    "plt.suptitle(\"Scatter plot between numerical variables\",size=15)                                   \n",
    "plt.show()\n",
    "#Observation: There is no much correlation between the numerical variables"
   ]
  },
  {
   "cell_type": "markdown",
   "metadata": {},
   "source": [
    "### Correlation between categorical features"
   ]
  },
  {
   "cell_type": "code",
   "execution_count": 76,
   "metadata": {},
   "outputs": [
    {
     "data": {
      "text/plain": [
       "38.53896103896104"
      ]
     },
     "execution_count": 76,
     "metadata": {},
     "output_type": "execute_result"
    }
   ],
   "source": [
    "#To know the percentage of positive leads to align the center of the heatmap\n",
    "df_ls['Converted'].sum()*100/df_ls.shape[0]"
   ]
  },
  {
   "cell_type": "code",
   "execution_count": 77,
   "metadata": {},
   "outputs": [
    {
     "data": {
      "image/png": "[encoded data removed]",
      "text/plain": [
       "<Figure size 720x720 with 2 Axes>"
      ]
     },
     "metadata": {
      "needs_background": "light"
     },
     "output_type": "display_data"
    }
   ],
   "source": [
    "#Specialization of leads Vs. Current Occupation Vs. Lead Conversion\n",
    "plt.figure(figsize=(10,10))\n",
    "plt.title(\"Specialization of Leads Vs. Current Occupation of Leads Vs. Lead Conversion\")\n",
    "res=pd.pivot_table(data=df_ls,index='Specialization',columns='What is your current occupation',values='Converted')\n",
    "sns.heatmap(res,annot=True,center=0.38,cmap='RdYlGn')\n",
    "plt.show()\n",
    "#Observation: Most of the working professionals from management domain were among the\n",
    "#positive leads"
   ]
  },
  {
   "cell_type": "code",
   "execution_count": 78,
   "metadata": {},
   "outputs": [
    {
     "data": {
      "image/png": "[encoded data removed]",
      "text/plain": [
       "<Figure size 720x720 with 2 Axes>"
      ]
     },
     "metadata": {
      "needs_background": "light"
     },
     "output_type": "display_data"
    }
   ],
   "source": [
    "#Tags of leads Vs. Lead Profile Vs. Lead Conversion\n",
    "plt.figure(figsize=(10,10))\n",
    "plt.title(\"Tags Vs. Lead Profile Vs. Lead Conversion\")\n",
    "res=pd.pivot_table(data=df_ls,index='Tags',columns='Lead Profile',values='Converted')\n",
    "sns.heatmap(res,annot=True,center=0.38,cmap='RdYlGn')\n",
    "plt.show()\n",
    "#Observation: Leads who responded positively indicating they shall revert converted \n",
    "#to positive leads"
   ]
  },
  {
   "cell_type": "code",
   "execution_count": 79,
   "metadata": {},
   "outputs": [
    {
     "data": {
      "image/png": "[encoded data removed]",
      "text/plain": [
       "<Figure size 720x720 with 2 Axes>"
      ]
     },
     "metadata": {
      "needs_background": "light"
     },
     "output_type": "display_data"
    }
   ],
   "source": [
    "#Free content request Vs. Last Notable Activity Vs. Lead Conversion\n",
    "plt.figure(figsize=(10,10))\n",
    "plt.title(\"Free content request Vs. Last Notable Activity Vs. Lead Conversion\")\n",
    "res=pd.pivot_table(data=df_ls,index='A free copy of Mastering The Interview',columns='Last Notable Activity',values='Converted')\n",
    "sns.heatmap(res,annot=True,center=0.38,cmap='RdYlGn')\n",
    "plt.show()\n",
    "#Observation: Having phone conversation had a positive impact on lead conversion"
   ]
  },
  {
   "cell_type": "code",
   "execution_count": 80,
   "metadata": {},
   "outputs": [
    {
     "name": "stdout",
     "output_type": "stream",
     "text": [
      "<class 'pandas.core.frame.DataFrame'>\n",
      "RangeIndex: 9240 entries, 0 to 9239\n",
      "Data columns (total 26 columns):\n",
      " #   Column                                         Non-Null Count  Dtype  \n",
      "---  ------                                         --------------  -----  \n",
      " 0   Lead Number                                    9240 non-null   int64  \n",
      " 1   Lead Origin                                    9240 non-null   object \n",
      " 2   Lead Source                                    9240 non-null   object \n",
      " 3   Do Not Email                                   9240 non-null   object \n",
      " 4   Do Not Call                                    9240 non-null   object \n",
      " 5   Converted                                      9240 non-null   int64  \n",
      " 6   TotalVisits                                    9240 non-null   float64\n",
      " 7   Total Time Spent on Website                    9240 non-null   int64  \n",
      " 8   Page Views Per Visit                           9240 non-null   float64\n",
      " 9   Last Activity                                  9240 non-null   object \n",
      " 10  Country                                        9240 non-null   object \n",
      " 11  Specialization                                 9240 non-null   object \n",
      " 12  How did you hear about X Education             9240 non-null   object \n",
      " 13  What is your current occupation                9240 non-null   object \n",
      " 14  What matters most to you in choosing a course  9240 non-null   object \n",
      " 15  Search                                         9240 non-null   object \n",
      " 16  Newspaper Article                              9240 non-null   object \n",
      " 17  X Education Forums                             9240 non-null   object \n",
      " 18  Newspaper                                      9240 non-null   object \n",
      " 19  Digital Advertisement                          9240 non-null   object \n",
      " 20  Through Recommendations                        9240 non-null   object \n",
      " 21  Tags                                           9240 non-null   object \n",
      " 22  Lead Profile                                   9240 non-null   object \n",
      " 23  City                                           9240 non-null   object \n",
      " 24  A free copy of Mastering The Interview         9240 non-null   object \n",
      " 25  Last Notable Activity                          9240 non-null   object \n",
      "dtypes: float64(2), int64(3), object(21)\n",
      "memory usage: 1.8+ MB\n"
     ]
    }
   ],
   "source": [
    "df_ls.info()"
   ]
  },
  {
   "cell_type": "markdown",
   "metadata": {},
   "source": [
    "### Data Transformation"
   ]
  },
  {
   "cell_type": "code",
   "execution_count": 81,
   "metadata": {},
   "outputs": [
    {
     "data": {
      "text/html": [
       "<div>\n",
       "<style scoped>\n",
       "    .dataframe tbody tr th:only-of-type {\n",
       "        vertical-align: middle;\n",
       "    }\n",
       "\n",
       "    .dataframe tbody tr th {\n",
       "        vertical-align: top;\n",
       "    }\n",
       "\n",
       "    .dataframe thead th {\n",
       "        text-align: right;\n",
       "    }\n",
       "</style>\n",
       "<table border=\"1\" class=\"dataframe\">\n",
       "  <thead>\n",
       "    <tr style=\"text-align: right;\">\n",
       "      <th></th>\n",
       "      <th>Lead Number</th>\n",
       "      <th>Lead Origin</th>\n",
       "      <th>Lead Source</th>\n",
       "      <th>Do Not Email</th>\n",
       "      <th>Do Not Call</th>\n",
       "      <th>Converted</th>\n",
       "      <th>TotalVisits</th>\n",
       "      <th>Total Time Spent on Website</th>\n",
       "      <th>Page Views Per Visit</th>\n",
       "      <th>Last Activity</th>\n",
       "      <th>...</th>\n",
       "      <th>Newspaper Article</th>\n",
       "      <th>X Education Forums</th>\n",
       "      <th>Newspaper</th>\n",
       "      <th>Digital Advertisement</th>\n",
       "      <th>Through Recommendations</th>\n",
       "      <th>Tags</th>\n",
       "      <th>Lead Profile</th>\n",
       "      <th>City</th>\n",
       "      <th>A free copy of Mastering The Interview</th>\n",
       "      <th>Last Notable Activity</th>\n",
       "    </tr>\n",
       "  </thead>\n",
       "  <tbody>\n",
       "    <tr>\n",
       "      <th>0</th>\n",
       "      <td>660737</td>\n",
       "      <td>API</td>\n",
       "      <td>Olark Chat</td>\n",
       "      <td>No</td>\n",
       "      <td>No</td>\n",
       "      <td>0</td>\n",
       "      <td>0.0</td>\n",
       "      <td>0</td>\n",
       "      <td>0.00</td>\n",
       "      <td>Page Visited on Website</td>\n",
       "      <td>...</td>\n",
       "      <td>No</td>\n",
       "      <td>No</td>\n",
       "      <td>No</td>\n",
       "      <td>No</td>\n",
       "      <td>No</td>\n",
       "      <td>Interested in other courses</td>\n",
       "      <td>Neutral</td>\n",
       "      <td>Unknown</td>\n",
       "      <td>No</td>\n",
       "      <td>Modified</td>\n",
       "    </tr>\n",
       "    <tr>\n",
       "      <th>1</th>\n",
       "      <td>660728</td>\n",
       "      <td>API</td>\n",
       "      <td>Organic Search</td>\n",
       "      <td>No</td>\n",
       "      <td>No</td>\n",
       "      <td>0</td>\n",
       "      <td>5.0</td>\n",
       "      <td>674</td>\n",
       "      <td>2.50</td>\n",
       "      <td>Email Opened</td>\n",
       "      <td>...</td>\n",
       "      <td>No</td>\n",
       "      <td>No</td>\n",
       "      <td>No</td>\n",
       "      <td>No</td>\n",
       "      <td>No</td>\n",
       "      <td>Ringing</td>\n",
       "      <td>Neutral</td>\n",
       "      <td>Unknown</td>\n",
       "      <td>No</td>\n",
       "      <td>Email Opened</td>\n",
       "    </tr>\n",
       "    <tr>\n",
       "      <th>2</th>\n",
       "      <td>660727</td>\n",
       "      <td>Landing Page Submission</td>\n",
       "      <td>Direct Traffic</td>\n",
       "      <td>No</td>\n",
       "      <td>No</td>\n",
       "      <td>1</td>\n",
       "      <td>2.0</td>\n",
       "      <td>1532</td>\n",
       "      <td>2.00</td>\n",
       "      <td>Email Opened</td>\n",
       "      <td>...</td>\n",
       "      <td>No</td>\n",
       "      <td>No</td>\n",
       "      <td>No</td>\n",
       "      <td>No</td>\n",
       "      <td>No</td>\n",
       "      <td>Will revert after reading the email</td>\n",
       "      <td>Potential Lead</td>\n",
       "      <td>Mumbai</td>\n",
       "      <td>Yes</td>\n",
       "      <td>Email Opened</td>\n",
       "    </tr>\n",
       "    <tr>\n",
       "      <th>3</th>\n",
       "      <td>660719</td>\n",
       "      <td>Landing Page Submission</td>\n",
       "      <td>Direct Traffic</td>\n",
       "      <td>No</td>\n",
       "      <td>No</td>\n",
       "      <td>0</td>\n",
       "      <td>1.0</td>\n",
       "      <td>305</td>\n",
       "      <td>1.00</td>\n",
       "      <td>Unreachable</td>\n",
       "      <td>...</td>\n",
       "      <td>No</td>\n",
       "      <td>No</td>\n",
       "      <td>No</td>\n",
       "      <td>No</td>\n",
       "      <td>No</td>\n",
       "      <td>Ringing</td>\n",
       "      <td>Neutral</td>\n",
       "      <td>Mumbai</td>\n",
       "      <td>No</td>\n",
       "      <td>Modified</td>\n",
       "    </tr>\n",
       "    <tr>\n",
       "      <th>4</th>\n",
       "      <td>660681</td>\n",
       "      <td>Landing Page Submission</td>\n",
       "      <td>Google</td>\n",
       "      <td>No</td>\n",
       "      <td>No</td>\n",
       "      <td>1</td>\n",
       "      <td>2.0</td>\n",
       "      <td>1428</td>\n",
       "      <td>1.00</td>\n",
       "      <td>Converted to Lead</td>\n",
       "      <td>...</td>\n",
       "      <td>No</td>\n",
       "      <td>No</td>\n",
       "      <td>No</td>\n",
       "      <td>No</td>\n",
       "      <td>No</td>\n",
       "      <td>Will revert after reading the email</td>\n",
       "      <td>Neutral</td>\n",
       "      <td>Mumbai</td>\n",
       "      <td>No</td>\n",
       "      <td>Modified</td>\n",
       "    </tr>\n",
       "    <tr>\n",
       "      <th>...</th>\n",
       "      <td>...</td>\n",
       "      <td>...</td>\n",
       "      <td>...</td>\n",
       "      <td>...</td>\n",
       "      <td>...</td>\n",
       "      <td>...</td>\n",
       "      <td>...</td>\n",
       "      <td>...</td>\n",
       "      <td>...</td>\n",
       "      <td>...</td>\n",
       "      <td>...</td>\n",
       "      <td>...</td>\n",
       "      <td>...</td>\n",
       "      <td>...</td>\n",
       "      <td>...</td>\n",
       "      <td>...</td>\n",
       "      <td>...</td>\n",
       "      <td>...</td>\n",
       "      <td>...</td>\n",
       "      <td>...</td>\n",
       "      <td>...</td>\n",
       "    </tr>\n",
       "    <tr>\n",
       "      <th>9235</th>\n",
       "      <td>579564</td>\n",
       "      <td>Landing Page Submission</td>\n",
       "      <td>Direct Traffic</td>\n",
       "      <td>Yes</td>\n",
       "      <td>No</td>\n",
       "      <td>1</td>\n",
       "      <td>8.0</td>\n",
       "      <td>1845</td>\n",
       "      <td>2.67</td>\n",
       "      <td>Email Marked Spam</td>\n",
       "      <td>...</td>\n",
       "      <td>No</td>\n",
       "      <td>No</td>\n",
       "      <td>No</td>\n",
       "      <td>No</td>\n",
       "      <td>No</td>\n",
       "      <td>Will revert after reading the email</td>\n",
       "      <td>Potential Lead</td>\n",
       "      <td>Mumbai</td>\n",
       "      <td>No</td>\n",
       "      <td>Email Marked Spam</td>\n",
       "    </tr>\n",
       "    <tr>\n",
       "      <th>9236</th>\n",
       "      <td>579546</td>\n",
       "      <td>Landing Page Submission</td>\n",
       "      <td>Direct Traffic</td>\n",
       "      <td>No</td>\n",
       "      <td>No</td>\n",
       "      <td>0</td>\n",
       "      <td>2.0</td>\n",
       "      <td>238</td>\n",
       "      <td>2.00</td>\n",
       "      <td>SMS Sent</td>\n",
       "      <td>...</td>\n",
       "      <td>No</td>\n",
       "      <td>No</td>\n",
       "      <td>No</td>\n",
       "      <td>No</td>\n",
       "      <td>No</td>\n",
       "      <td>wrong number given</td>\n",
       "      <td>Potential Lead</td>\n",
       "      <td>Mumbai</td>\n",
       "      <td>Yes</td>\n",
       "      <td>SMS Sent</td>\n",
       "    </tr>\n",
       "    <tr>\n",
       "      <th>9237</th>\n",
       "      <td>579545</td>\n",
       "      <td>Landing Page Submission</td>\n",
       "      <td>Direct Traffic</td>\n",
       "      <td>Yes</td>\n",
       "      <td>No</td>\n",
       "      <td>0</td>\n",
       "      <td>2.0</td>\n",
       "      <td>199</td>\n",
       "      <td>2.00</td>\n",
       "      <td>SMS Sent</td>\n",
       "      <td>...</td>\n",
       "      <td>No</td>\n",
       "      <td>No</td>\n",
       "      <td>No</td>\n",
       "      <td>No</td>\n",
       "      <td>No</td>\n",
       "      <td>invalid number</td>\n",
       "      <td>Potential Lead</td>\n",
       "      <td>Mumbai</td>\n",
       "      <td>Yes</td>\n",
       "      <td>SMS Sent</td>\n",
       "    </tr>\n",
       "    <tr>\n",
       "      <th>9238</th>\n",
       "      <td>579538</td>\n",
       "      <td>Landing Page Submission</td>\n",
       "      <td>Google</td>\n",
       "      <td>No</td>\n",
       "      <td>No</td>\n",
       "      <td>1</td>\n",
       "      <td>3.0</td>\n",
       "      <td>499</td>\n",
       "      <td>3.00</td>\n",
       "      <td>SMS Sent</td>\n",
       "      <td>...</td>\n",
       "      <td>No</td>\n",
       "      <td>No</td>\n",
       "      <td>No</td>\n",
       "      <td>No</td>\n",
       "      <td>No</td>\n",
       "      <td>Will revert after reading the email</td>\n",
       "      <td>Neutral</td>\n",
       "      <td>Other Metro Cities</td>\n",
       "      <td>No</td>\n",
       "      <td>SMS Sent</td>\n",
       "    </tr>\n",
       "    <tr>\n",
       "      <th>9239</th>\n",
       "      <td>579533</td>\n",
       "      <td>Landing Page Submission</td>\n",
       "      <td>Direct Traffic</td>\n",
       "      <td>No</td>\n",
       "      <td>No</td>\n",
       "      <td>1</td>\n",
       "      <td>6.0</td>\n",
       "      <td>1279</td>\n",
       "      <td>3.00</td>\n",
       "      <td>SMS Sent</td>\n",
       "      <td>...</td>\n",
       "      <td>No</td>\n",
       "      <td>No</td>\n",
       "      <td>No</td>\n",
       "      <td>No</td>\n",
       "      <td>No</td>\n",
       "      <td>Will revert after reading the email</td>\n",
       "      <td>Potential Lead</td>\n",
       "      <td>Other Cities</td>\n",
       "      <td>Yes</td>\n",
       "      <td>Modified</td>\n",
       "    </tr>\n",
       "  </tbody>\n",
       "</table>\n",
       "<p>9240 rows × 26 columns</p>\n",
       "</div>"
      ],
      "text/plain": [
       "      Lead Number              Lead Origin     Lead Source Do Not Email  \\\n",
       "0          660737                      API      Olark Chat           No   \n",
       "1          660728                      API  Organic Search           No   \n",
       "2          660727  Landing Page Submission  Direct Traffic           No   \n",
       "3          660719  Landing Page Submission  Direct Traffic           No   \n",
       "4          660681  Landing Page Submission          Google           No   \n",
       "...           ...                      ...             ...          ...   \n",
       "9235       579564  Landing Page Submission  Direct Traffic          Yes   \n",
       "9236       579546  Landing Page Submission  Direct Traffic           No   \n",
       "9237       579545  Landing Page Submission  Direct Traffic          Yes   \n",
       "9238       579538  Landing Page Submission          Google           No   \n",
       "9239       579533  Landing Page Submission  Direct Traffic           No   \n",
       "\n",
       "     Do Not Call  Converted  TotalVisits  Total Time Spent on Website  \\\n",
       "0             No          0          0.0                            0   \n",
       "1             No          0          5.0                          674   \n",
       "2             No          1          2.0                         1532   \n",
       "3             No          0          1.0                          305   \n",
       "4             No          1          2.0                         1428   \n",
       "...          ...        ...          ...                          ...   \n",
       "9235          No          1          8.0                         1845   \n",
       "9236          No          0          2.0                          238   \n",
       "9237          No          0          2.0                          199   \n",
       "9238          No          1          3.0                          499   \n",
       "9239          No          1          6.0                         1279   \n",
       "\n",
       "      Page Views Per Visit            Last Activity  ... Newspaper Article  \\\n",
       "0                     0.00  Page Visited on Website  ...                No   \n",
       "1                     2.50             Email Opened  ...                No   \n",
       "2                     2.00             Email Opened  ...                No   \n",
       "3                     1.00              Unreachable  ...                No   \n",
       "4                     1.00        Converted to Lead  ...                No   \n",
       "...                    ...                      ...  ...               ...   \n",
       "9235                  2.67        Email Marked Spam  ...                No   \n",
       "9236                  2.00                 SMS Sent  ...                No   \n",
       "9237                  2.00                 SMS Sent  ...                No   \n",
       "9238                  3.00                 SMS Sent  ...                No   \n",
       "9239                  3.00                 SMS Sent  ...                No   \n",
       "\n",
       "     X Education Forums Newspaper Digital Advertisement  \\\n",
       "0                    No        No                    No   \n",
       "1                    No        No                    No   \n",
       "2                    No        No                    No   \n",
       "3                    No        No                    No   \n",
       "4                    No        No                    No   \n",
       "...                 ...       ...                   ...   \n",
       "9235                 No        No                    No   \n",
       "9236                 No        No                    No   \n",
       "9237                 No        No                    No   \n",
       "9238                 No        No                    No   \n",
       "9239                 No        No                    No   \n",
       "\n",
       "     Through Recommendations                                 Tags  \\\n",
       "0                         No          Interested in other courses   \n",
       "1                         No                              Ringing   \n",
       "2                         No  Will revert after reading the email   \n",
       "3                         No                              Ringing   \n",
       "4                         No  Will revert after reading the email   \n",
       "...                      ...                                  ...   \n",
       "9235                      No  Will revert after reading the email   \n",
       "9236                      No                   wrong number given   \n",
       "9237                      No                       invalid number   \n",
       "9238                      No  Will revert after reading the email   \n",
       "9239                      No  Will revert after reading the email   \n",
       "\n",
       "        Lead Profile                City  \\\n",
       "0            Neutral             Unknown   \n",
       "1            Neutral             Unknown   \n",
       "2     Potential Lead              Mumbai   \n",
       "3            Neutral              Mumbai   \n",
       "4            Neutral              Mumbai   \n",
       "...              ...                 ...   \n",
       "9235  Potential Lead              Mumbai   \n",
       "9236  Potential Lead              Mumbai   \n",
       "9237  Potential Lead              Mumbai   \n",
       "9238         Neutral  Other Metro Cities   \n",
       "9239  Potential Lead        Other Cities   \n",
       "\n",
       "     A free copy of Mastering The Interview Last Notable Activity  \n",
       "0                                        No              Modified  \n",
       "1                                        No          Email Opened  \n",
       "2                                       Yes          Email Opened  \n",
       "3                                        No              Modified  \n",
       "4                                        No              Modified  \n",
       "...                                     ...                   ...  \n",
       "9235                                     No     Email Marked Spam  \n",
       "9236                                    Yes              SMS Sent  \n",
       "9237                                    Yes              SMS Sent  \n",
       "9238                                     No              SMS Sent  \n",
       "9239                                    Yes              Modified  \n",
       "\n",
       "[9240 rows x 26 columns]"
      ]
     },
     "execution_count": 81,
     "metadata": {},
     "output_type": "execute_result"
    }
   ],
   "source": [
    "df_ls"
   ]
  },
  {
   "cell_type": "markdown",
   "metadata": {},
   "source": [
    "## Getting Dummy Variables"
   ]
  },
  {
   "cell_type": "code",
   "execution_count": 82,
   "metadata": {},
   "outputs": [],
   "source": [
    "#Get the dummy variables for the feature 'Lead Origin'\n",
    "lo=pd.get_dummies(df_ls['Lead Origin'],drop_first=True)"
   ]
  },
  {
   "cell_type": "code",
   "execution_count": 83,
   "metadata": {},
   "outputs": [],
   "source": [
    "#Add the dummies to the original dataframe\n",
    "df_ls=pd.concat([df_ls,lo],axis=1)"
   ]
  },
  {
   "cell_type": "code",
   "execution_count": 84,
   "metadata": {},
   "outputs": [],
   "source": [
    "#Drop the 'Lead Origin' dataframe as dummies are created for it\n",
    "df_ls.drop(['Lead Origin'],axis=1,inplace=True)"
   ]
  },
  {
   "cell_type": "code",
   "execution_count": 85,
   "metadata": {},
   "outputs": [],
   "source": [
    "#Get the dummy variables for the feature 'Lead Source'\n",
    "ls=pd.get_dummies(df_ls['Lead Source'],drop_first=True)"
   ]
  },
  {
   "cell_type": "code",
   "execution_count": 86,
   "metadata": {},
   "outputs": [],
   "source": [
    "#Add the dummies to the original dataframe\n",
    "df_ls=pd.concat([df_ls,ls],axis=1)"
   ]
  },
  {
   "cell_type": "code",
   "execution_count": 87,
   "metadata": {},
   "outputs": [],
   "source": [
    "#Drop the 'Lead Source' dataframe as dummies are created for it\n",
    "df_ls.drop(['Lead Source'],axis=1,inplace=True)"
   ]
  },
  {
   "cell_type": "code",
   "execution_count": 88,
   "metadata": {},
   "outputs": [],
   "source": [
    "#Get the dummy variables for the feature 'Last Activity'\n",
    "la=pd.get_dummies(df_ls['Last Activity'],drop_first=True)"
   ]
  },
  {
   "cell_type": "code",
   "execution_count": 89,
   "metadata": {},
   "outputs": [],
   "source": [
    "#Add the dummies to the original dataframe\n",
    "df_ls=pd.concat([df_ls,la],axis=1)"
   ]
  },
  {
   "cell_type": "code",
   "execution_count": 90,
   "metadata": {},
   "outputs": [],
   "source": [
    "#Drop the 'Last Activity' dataframe as dummies are created for it\n",
    "df_ls.drop(['Last Activity'],axis=1,inplace=True)"
   ]
  },
  {
   "cell_type": "code",
   "execution_count": 91,
   "metadata": {},
   "outputs": [],
   "source": [
    "#Get the dummy variables for the feature 'Country'\n",
    "cc=pd.get_dummies(df_ls['Country'],drop_first=True)"
   ]
  },
  {
   "cell_type": "code",
   "execution_count": 92,
   "metadata": {},
   "outputs": [],
   "source": [
    "#Add the dummies to the original dataframe\n",
    "df_ls=pd.concat([df_ls,cc],axis=1)"
   ]
  },
  {
   "cell_type": "code",
   "execution_count": 93,
   "metadata": {},
   "outputs": [],
   "source": [
    "#Drop the 'Country' dataframe as dummies are created for it\n",
    "df_ls.drop(['Country'],axis=1,inplace=True)"
   ]
  },
  {
   "cell_type": "code",
   "execution_count": 94,
   "metadata": {},
   "outputs": [],
   "source": [
    "#Get the dummy variables for the feature 'Specialization'\n",
    "ss=pd.get_dummies(df_ls['Specialization'],drop_first=True)"
   ]
  },
  {
   "cell_type": "code",
   "execution_count": 95,
   "metadata": {},
   "outputs": [],
   "source": [
    "#Add the dummies to the original dataframe\n",
    "df_ls=pd.concat([df_ls,ss],axis=1)"
   ]
  },
  {
   "cell_type": "code",
   "execution_count": 96,
   "metadata": {},
   "outputs": [],
   "source": [
    "#Drop the 'Specialization' dataframe as dummies are created for it\n",
    "df_ls.drop(['Specialization'],axis=1,inplace=True)"
   ]
  },
  {
   "cell_type": "code",
   "execution_count": 97,
   "metadata": {},
   "outputs": [],
   "source": [
    "#Get the dummy variables for the feature 'How did you hear about X Education'\n",
    "hh=pd.get_dummies(df_ls['How did you hear about X Education'],drop_first=True)\n",
    "df_ls=pd.concat([df_ls,hh],axis=1)\n",
    "df_ls.drop(['How did you hear about X Education'],axis=1,inplace=True)"
   ]
  },
  {
   "cell_type": "code",
   "execution_count": 98,
   "metadata": {},
   "outputs": [],
   "source": [
    "#Get the dummy variables for the feature 'What is your current occupation'\n",
    "co=pd.get_dummies(df_ls['What is your current occupation'],drop_first=True)\n",
    "df_ls=pd.concat([df_ls,co],axis=1)\n",
    "df_ls.drop(['What is your current occupation'],axis=1,inplace=True)"
   ]
  },
  {
   "cell_type": "code",
   "execution_count": 99,
   "metadata": {},
   "outputs": [],
   "source": [
    "#Get the dummy variables for the feature 'What matters most to you in choosing a course'\n",
    "cu=pd.get_dummies(df_ls['What matters most to you in choosing a course'],drop_first=True)\n",
    "df_ls=pd.concat([df_ls,cu],axis=1)\n",
    "df_ls.drop(['What matters most to you in choosing a course'],axis=1,inplace=True)"
   ]
  },
  {
   "cell_type": "code",
   "execution_count": 100,
   "metadata": {},
   "outputs": [],
   "source": [
    "#Get the dummy variables for the feature 'Tags'\n",
    "t=pd.get_dummies(df_ls['Tags'],drop_first=True)\n",
    "df_ls=pd.concat([df_ls,t],axis=1)\n",
    "df_ls.drop(['Tags'],axis=1,inplace=True)"
   ]
  },
  {
   "cell_type": "code",
   "execution_count": 101,
   "metadata": {},
   "outputs": [],
   "source": [
    "#Get the dummy variables for the feature 'Lead Profile'\n",
    "lp=pd.get_dummies(df_ls['Lead Profile'],drop_first=True)\n",
    "df_ls=pd.concat([df_ls,lp],axis=1)\n",
    "df_ls.drop(['Lead Profile'],axis=1,inplace=True)"
   ]
  },
  {
   "cell_type": "code",
   "execution_count": 102,
   "metadata": {},
   "outputs": [],
   "source": [
    "#Get the dummy variables for the feature 'City'\n",
    "cy=pd.get_dummies(df_ls['City'],drop_first=True)\n",
    "df_ls=pd.concat([df_ls,cy],axis=1)\n",
    "df_ls.drop(['City'],axis=1,inplace=True)"
   ]
  },
  {
   "cell_type": "code",
   "execution_count": 103,
   "metadata": {},
   "outputs": [],
   "source": [
    "#Get the dummy variables for the feature 'Last Notable Activity'\n",
    "ln=pd.get_dummies(df_ls['Last Notable Activity'],drop_first=True)\n",
    "df_ls=pd.concat([df_ls,ln],axis=1)\n",
    "df_ls.drop(['Last Notable Activity'],axis=1,inplace=True)"
   ]
  },
  {
   "cell_type": "markdown",
   "metadata": {},
   "source": [
    "### Convert binary category values to 0 and 1"
   ]
  },
  {
   "cell_type": "code",
   "execution_count": 104,
   "metadata": {},
   "outputs": [],
   "source": [
    "df_ls['Do Not Email']=df_ls['Do Not Email'].map({'No':0,'Yes':1})"
   ]
  },
  {
   "cell_type": "code",
   "execution_count": 105,
   "metadata": {},
   "outputs": [],
   "source": [
    "df_ls['Do Not Call']=df_ls['Do Not Call'].map({'No':0,'Yes':1})"
   ]
  },
  {
   "cell_type": "code",
   "execution_count": 106,
   "metadata": {},
   "outputs": [],
   "source": [
    "df_ls['Search']=df_ls['Search'].map({'No':0,'Yes':1})"
   ]
  },
  {
   "cell_type": "code",
   "execution_count": 107,
   "metadata": {},
   "outputs": [],
   "source": [
    "df_ls['Newspaper Article']=df_ls['Newspaper Article'].map({'No':0,'Yes':1})"
   ]
  },
  {
   "cell_type": "code",
   "execution_count": 108,
   "metadata": {},
   "outputs": [],
   "source": [
    "df_ls['X Education Forums']=df_ls['X Education Forums'].map({'No':0,'Yes':1})"
   ]
  },
  {
   "cell_type": "code",
   "execution_count": 109,
   "metadata": {},
   "outputs": [],
   "source": [
    "df_ls['Newspaper']=df_ls['Newspaper'].map({'No':0,'Yes':1})"
   ]
  },
  {
   "cell_type": "code",
   "execution_count": 110,
   "metadata": {},
   "outputs": [],
   "source": [
    "df_ls['Digital Advertisement']=df_ls['Digital Advertisement'].map({'No':0,'Yes':1})"
   ]
  },
  {
   "cell_type": "code",
   "execution_count": 111,
   "metadata": {},
   "outputs": [],
   "source": [
    "df_ls['Through Recommendations']=df_ls['Through Recommendations'].map({'No':0,'Yes':1})"
   ]
  },
  {
   "cell_type": "code",
   "execution_count": 112,
   "metadata": {},
   "outputs": [],
   "source": [
    "df_ls['A free copy of Mastering The Interview']=df_ls['A free copy of Mastering The Interview'].map({'No':0,'Yes':1})"
   ]
  },
  {
   "cell_type": "code",
   "execution_count": 113,
   "metadata": {},
   "outputs": [],
   "source": [
    "#Drop lead number as it is just an identifier\n",
    "df_ls.drop(['Lead Number'],axis=1,inplace=True)"
   ]
  },
  {
   "cell_type": "code",
   "execution_count": 114,
   "metadata": {},
   "outputs": [
    {
     "data": {
      "text/plain": [
       "(9240, 172)"
      ]
     },
     "execution_count": 114,
     "metadata": {},
     "output_type": "execute_result"
    }
   ],
   "source": [
    "df_ls.shape"
   ]
  },
  {
   "cell_type": "code",
   "execution_count": 115,
   "metadata": {},
   "outputs": [
    {
     "name": "stdout",
     "output_type": "stream",
     "text": [
      "Do Not Email\n",
      "Do Not Call\n",
      "Converted\n",
      "TotalVisits\n",
      "Total Time Spent on Website\n",
      "Page Views Per Visit\n",
      "Search\n",
      "Newspaper Article\n",
      "X Education Forums\n",
      "Newspaper\n",
      "Digital Advertisement\n",
      "Through Recommendations\n",
      "A free copy of Mastering The Interview\n",
      "Landing Page Submission\n",
      "Lead Add Form\n",
      "Lead Import\n",
      "Quick Add Form\n",
      "Direct Traffic\n",
      "Facebook\n",
      "Google\n",
      "Live Chat\n",
      "NC_EDM\n",
      "Olark Chat\n",
      "Organic Search\n",
      "Pay per Click Ads\n",
      "Press_Release\n",
      "Reference\n",
      "Referral Sites\n",
      "Social Media\n",
      "WeLearn\n",
      "Welingak Website\n",
      "bing\n",
      "blog\n",
      "testone\n",
      "youtubechannel\n",
      "Converted to Lead\n",
      "Email Bounced\n",
      "Email Link Clicked\n",
      "Email Marked Spam\n",
      "Email Opened\n",
      "Email Received\n",
      "Form Submitted on Website\n",
      "Had a Phone Conversation\n",
      "Olark Chat Conversation\n",
      "Page Visited on Website\n",
      "Resubscribed to emails\n",
      "SMS Sent\n",
      "Unreachable\n",
      "Unsubscribed\n",
      "View in browser link Clicked\n",
      "Visited Booth in Tradeshow\n",
      "Australia\n",
      "Bahrain\n",
      "Bangladesh\n",
      "Belgium\n",
      "Canada\n",
      "China\n",
      "Denmark\n",
      "France\n",
      "Germany\n",
      "Ghana\n",
      "Hong Kong\n",
      "India\n",
      "Indonesia\n",
      "Italy\n",
      "Kenya\n",
      "Kuwait\n",
      "Liberia\n",
      "Malaysia\n",
      "Netherlands\n",
      "Nigeria\n",
      "Oman\n",
      "Philippines\n",
      "Qatar\n",
      "Russia\n",
      "Saudi Arabia\n",
      "Singapore\n",
      "South Africa\n",
      "Sri Lanka\n",
      "Sweden\n",
      "Switzerland\n",
      "Tanzania\n",
      "Uganda\n",
      "United Arab Emirates\n",
      "United Kingdom\n",
      "United States\n",
      "Vietnam\n",
      "unknown\n",
      "Business Administration\n",
      "E-Business\n",
      "E-COMMERCE\n",
      "Finance Management\n",
      "Healthcare Management\n",
      "Hospitality Management\n",
      "Human Resource Management\n",
      "IT Projects Management\n",
      "International Business\n",
      "Marketing Management\n",
      "Media and Advertising\n",
      "Operations Management\n",
      "Retail Management\n",
      "Rural and Agribusiness\n",
      "Services Excellence\n",
      "Supply Chain Management\n",
      "Travel and Tourism\n",
      "Unknown\n",
      "Email\n",
      "Multiple Sources\n",
      "Online Search\n",
      "Other\n",
      "SMS\n",
      "Social Media\n",
      "Student of SomeSchool\n",
      "Word Of Mouth\n",
      "Housewife\n",
      "Other\n",
      "Student\n",
      "Unemployed\n",
      "Working Professional\n",
      "Flexibility & Convenience\n",
      "Other\n",
      "Busy\n",
      "Closed by Horizzon\n",
      "Diploma holder (Not Eligible)\n",
      "Graduation in progress\n",
      "In confusion whether part time or DLP\n",
      "Interested  in full time MBA\n",
      "Interested in Next batch\n",
      "Interested in other courses\n",
      "Lateral student\n",
      "Lost to EINS\n",
      "Lost to Others\n",
      "Not doing further education\n",
      "Recognition issue (DEC approval)\n",
      "Ringing\n",
      "Shall take in the next coming month\n",
      "Still Thinking\n",
      "University not recognized\n",
      "Want to take admission but has financial problems\n",
      "Will revert after reading the email\n",
      "in touch with EINS\n",
      "invalid number\n",
      "number not provided\n",
      "opp hangup\n",
      "switched off\n",
      "wrong number given\n",
      "Lateral Student\n",
      "Neutral\n",
      "Other Leads\n",
      "Potential Lead\n",
      "Student of SomeSchool\n",
      "Other Cities\n",
      "Other Cities of Maharashtra\n",
      "Other Metro Cities\n",
      "Thane & Outskirts\n",
      "Tier II Cities\n",
      "Unknown\n",
      "Email Bounced\n",
      "Email Link Clicked\n",
      "Email Marked Spam\n",
      "Email Opened\n",
      "Email Received\n",
      "Form Submitted on Website\n",
      "Had a Phone Conversation\n",
      "Modified\n",
      "Olark Chat Conversation\n",
      "Page Visited on Website\n",
      "Resubscribed to emails\n",
      "SMS Sent\n",
      "Unreachable\n",
      "Unsubscribed\n",
      "View in browser link Clicked\n"
     ]
    }
   ],
   "source": [
    "for i in df_ls.columns:\n",
    "    print(i)"
   ]
  },
  {
   "cell_type": "code",
   "execution_count": 116,
   "metadata": {},
   "outputs": [
    {
     "name": "stdout",
     "output_type": "stream",
     "text": [
      "Newspaper Article   X Education Forums   0.7070685126555428\n",
      "Lead Add Form   Reference   0.8532373140801324\n",
      "Lead Import   Facebook   0.9817093086554258\n",
      "Email Link Clicked   Email Link Clicked   0.8007638277647461\n",
      "Email Opened   Email Opened   0.84249645297761\n",
      "Email Received   Email Received   0.7070685126555403\n",
      "SMS Sent   SMS Sent   0.8527074224632962\n",
      "Unsubscribed   Unsubscribed   0.8771079881990451\n"
     ]
    }
   ],
   "source": [
    "#Finding highly correlated values\n",
    "\n",
    "rows, cols = df_ls.shape\n",
    "corr = df_ls.corr().values\n",
    "flds = list(df_ls.columns)\n",
    "\n",
    "for i in range(cols):\n",
    "    for j in range(i+1, cols):\n",
    "        if corr[i,j] > 0.7 and corr[i,j]!=1:\n",
    "            print (flds[i], ' ', flds[j], ' ', corr[i,j])"
   ]
  },
  {
   "cell_type": "code",
   "execution_count": 117,
   "metadata": {},
   "outputs": [
    {
     "name": "stdout",
     "output_type": "stream",
     "text": [
      "Landing Page Submission   Unknown   -0.7482626470677463\n",
      "Unemployed   Working Professional   -0.8496528018462713\n",
      "Neutral   Potential Lead   -0.7796502964767326\n"
     ]
    }
   ],
   "source": [
    "#Finding highly correlated values\n",
    "rows, cols = df_ls.shape\n",
    "corr = df_ls.corr().values\n",
    "flds = list(df_ls.columns)\n",
    "\n",
    "for i in range(cols):\n",
    "    for j in range(i+1, cols):\n",
    "        if corr[i,j] < -0.7 and corr[i,j]!=1:\n",
    "            print (flds[i], ' ', flds[j], ' ', corr[i,j])"
   ]
  },
  {
   "cell_type": "code",
   "execution_count": 118,
   "metadata": {},
   "outputs": [],
   "source": [
    "#Dropping one of these values as they show similar effect on target variable\n",
    "df_ls.drop(['Newspaper Article','Lead Add Form','Lead Import','Email Link Clicked',\n",
    "            'Email Opened','Email Received','SMS Sent','Unsubscribed','Unknown','Unemployed',\n",
    "           'Neutral'],axis=1,inplace=True)"
   ]
  },
  {
   "cell_type": "markdown",
   "metadata": {},
   "source": [
    "### Train-Test split"
   ]
  },
  {
   "cell_type": "code",
   "execution_count": 119,
   "metadata": {},
   "outputs": [],
   "source": [
    "from sklearn.model_selection import train_test_split"
   ]
  },
  {
   "cell_type": "code",
   "execution_count": 120,
   "metadata": {},
   "outputs": [
    {
     "data": {
      "text/plain": [
       "(9240, 154)"
      ]
     },
     "execution_count": 120,
     "metadata": {},
     "output_type": "execute_result"
    }
   ],
   "source": [
    "X = df_ls.drop(['Converted'], axis=1)\n",
    "X.shape"
   ]
  },
  {
   "cell_type": "code",
   "execution_count": 121,
   "metadata": {},
   "outputs": [
    {
     "data": {
      "text/plain": [
       "0    0\n",
       "1    0\n",
       "2    1\n",
       "3    0\n",
       "4    1\n",
       "Name: Converted, dtype: int64"
      ]
     },
     "execution_count": 121,
     "metadata": {},
     "output_type": "execute_result"
    }
   ],
   "source": [
    "y=df_ls['Converted']\n",
    "y.head()"
   ]
  },
  {
   "cell_type": "code",
   "execution_count": 122,
   "metadata": {},
   "outputs": [],
   "source": [
    "# Splitting the data into train and test\n",
    "X_train, X_test, y_train, y_test = train_test_split(X, y, train_size=0.7, test_size=0.3, random_state=10)"
   ]
  },
  {
   "cell_type": "markdown",
   "metadata": {},
   "source": [
    "### Feature Scaling to get all values into common range"
   ]
  },
  {
   "cell_type": "code",
   "execution_count": 123,
   "metadata": {},
   "outputs": [],
   "source": [
    "from sklearn.preprocessing import StandardScaler"
   ]
  },
  {
   "cell_type": "code",
   "execution_count": 124,
   "metadata": {},
   "outputs": [
    {
     "name": "stderr",
     "output_type": "stream",
     "text": [
      "C:\\Users\\mvrao\\Anaconda3\\lib\\site-packages\\ipykernel_launcher.py:3: SettingWithCopyWarning: \n",
      "A value is trying to be set on a copy of a slice from a DataFrame.\n",
      "Try using .loc[row_indexer,col_indexer] = value instead\n",
      "\n",
      "See the caveats in the documentation: https://pandas.pydata.org/pandas-docs/stable/user_guide/indexing.html#returning-a-view-versus-a-copy\n",
      "  This is separate from the ipykernel package so we can avoid doing imports until\n",
      "C:\\Users\\mvrao\\Anaconda3\\lib\\site-packages\\pandas\\core\\indexing.py:966: SettingWithCopyWarning: \n",
      "A value is trying to be set on a copy of a slice from a DataFrame.\n",
      "Try using .loc[row_indexer,col_indexer] = value instead\n",
      "\n",
      "See the caveats in the documentation: https://pandas.pydata.org/pandas-docs/stable/user_guide/indexing.html#returning-a-view-versus-a-copy\n",
      "  self.obj[item] = s\n"
     ]
    },
    {
     "data": {
      "text/html": [
       "<div>\n",
       "<style scoped>\n",
       "    .dataframe tbody tr th:only-of-type {\n",
       "        vertical-align: middle;\n",
       "    }\n",
       "\n",
       "    .dataframe tbody tr th {\n",
       "        vertical-align: top;\n",
       "    }\n",
       "\n",
       "    .dataframe thead th {\n",
       "        text-align: right;\n",
       "    }\n",
       "</style>\n",
       "<table border=\"1\" class=\"dataframe\">\n",
       "  <thead>\n",
       "    <tr style=\"text-align: right;\">\n",
       "      <th></th>\n",
       "      <th>Do Not Email</th>\n",
       "      <th>Do Not Call</th>\n",
       "      <th>TotalVisits</th>\n",
       "      <th>Total Time Spent on Website</th>\n",
       "      <th>Page Views Per Visit</th>\n",
       "      <th>Search</th>\n",
       "      <th>X Education Forums</th>\n",
       "      <th>Newspaper</th>\n",
       "      <th>Digital Advertisement</th>\n",
       "      <th>Through Recommendations</th>\n",
       "      <th>...</th>\n",
       "      <th>Email Bounced</th>\n",
       "      <th>Email Marked Spam</th>\n",
       "      <th>Form Submitted on Website</th>\n",
       "      <th>Had a Phone Conversation</th>\n",
       "      <th>Modified</th>\n",
       "      <th>Olark Chat Conversation</th>\n",
       "      <th>Page Visited on Website</th>\n",
       "      <th>Resubscribed to emails</th>\n",
       "      <th>Unreachable</th>\n",
       "      <th>View in browser link Clicked</th>\n",
       "    </tr>\n",
       "  </thead>\n",
       "  <tbody>\n",
       "    <tr>\n",
       "      <th>3112</th>\n",
       "      <td>0</td>\n",
       "      <td>0</td>\n",
       "      <td>-0.278088</td>\n",
       "      <td>-0.135374</td>\n",
       "      <td>-0.154643</td>\n",
       "      <td>0</td>\n",
       "      <td>0</td>\n",
       "      <td>0</td>\n",
       "      <td>0</td>\n",
       "      <td>0</td>\n",
       "      <td>...</td>\n",
       "      <td>0</td>\n",
       "      <td>0</td>\n",
       "      <td>0</td>\n",
       "      <td>0</td>\n",
       "      <td>0</td>\n",
       "      <td>0</td>\n",
       "      <td>0</td>\n",
       "      <td>0</td>\n",
       "      <td>0</td>\n",
       "      <td>0</td>\n",
       "    </tr>\n",
       "    <tr>\n",
       "      <th>8413</th>\n",
       "      <td>0</td>\n",
       "      <td>0</td>\n",
       "      <td>0.317302</td>\n",
       "      <td>1.905574</td>\n",
       "      <td>1.296650</td>\n",
       "      <td>0</td>\n",
       "      <td>0</td>\n",
       "      <td>0</td>\n",
       "      <td>0</td>\n",
       "      <td>0</td>\n",
       "      <td>...</td>\n",
       "      <td>0</td>\n",
       "      <td>0</td>\n",
       "      <td>0</td>\n",
       "      <td>0</td>\n",
       "      <td>0</td>\n",
       "      <td>0</td>\n",
       "      <td>0</td>\n",
       "      <td>0</td>\n",
       "      <td>0</td>\n",
       "      <td>0</td>\n",
       "    </tr>\n",
       "    <tr>\n",
       "      <th>2961</th>\n",
       "      <td>0</td>\n",
       "      <td>0</td>\n",
       "      <td>-0.079625</td>\n",
       "      <td>1.389409</td>\n",
       "      <td>-0.638407</td>\n",
       "      <td>0</td>\n",
       "      <td>0</td>\n",
       "      <td>0</td>\n",
       "      <td>0</td>\n",
       "      <td>0</td>\n",
       "      <td>...</td>\n",
       "      <td>0</td>\n",
       "      <td>0</td>\n",
       "      <td>0</td>\n",
       "      <td>0</td>\n",
       "      <td>0</td>\n",
       "      <td>0</td>\n",
       "      <td>0</td>\n",
       "      <td>0</td>\n",
       "      <td>0</td>\n",
       "      <td>0</td>\n",
       "    </tr>\n",
       "    <tr>\n",
       "      <th>24</th>\n",
       "      <td>0</td>\n",
       "      <td>0</td>\n",
       "      <td>0.515765</td>\n",
       "      <td>1.186956</td>\n",
       "      <td>-0.396525</td>\n",
       "      <td>0</td>\n",
       "      <td>0</td>\n",
       "      <td>0</td>\n",
       "      <td>0</td>\n",
       "      <td>0</td>\n",
       "      <td>...</td>\n",
       "      <td>0</td>\n",
       "      <td>0</td>\n",
       "      <td>0</td>\n",
       "      <td>0</td>\n",
       "      <td>0</td>\n",
       "      <td>0</td>\n",
       "      <td>0</td>\n",
       "      <td>0</td>\n",
       "      <td>0</td>\n",
       "      <td>0</td>\n",
       "    </tr>\n",
       "    <tr>\n",
       "      <th>2740</th>\n",
       "      <td>0</td>\n",
       "      <td>0</td>\n",
       "      <td>-0.079625</td>\n",
       "      <td>0.942553</td>\n",
       "      <td>0.329121</td>\n",
       "      <td>0</td>\n",
       "      <td>0</td>\n",
       "      <td>0</td>\n",
       "      <td>0</td>\n",
       "      <td>0</td>\n",
       "      <td>...</td>\n",
       "      <td>0</td>\n",
       "      <td>0</td>\n",
       "      <td>0</td>\n",
       "      <td>0</td>\n",
       "      <td>0</td>\n",
       "      <td>0</td>\n",
       "      <td>0</td>\n",
       "      <td>0</td>\n",
       "      <td>0</td>\n",
       "      <td>0</td>\n",
       "    </tr>\n",
       "  </tbody>\n",
       "</table>\n",
       "<p>5 rows × 154 columns</p>\n",
       "</div>"
      ],
      "text/plain": [
       "      Do Not Email  Do Not Call  TotalVisits  Total Time Spent on Website  \\\n",
       "3112             0            0    -0.278088                    -0.135374   \n",
       "8413             0            0     0.317302                     1.905574   \n",
       "2961             0            0    -0.079625                     1.389409   \n",
       "24               0            0     0.515765                     1.186956   \n",
       "2740             0            0    -0.079625                     0.942553   \n",
       "\n",
       "      Page Views Per Visit  Search  X Education Forums  Newspaper  \\\n",
       "3112             -0.154643       0                   0          0   \n",
       "8413              1.296650       0                   0          0   \n",
       "2961             -0.638407       0                   0          0   \n",
       "24               -0.396525       0                   0          0   \n",
       "2740              0.329121       0                   0          0   \n",
       "\n",
       "      Digital Advertisement  Through Recommendations  ...  Email Bounced  \\\n",
       "3112                      0                        0  ...              0   \n",
       "8413                      0                        0  ...              0   \n",
       "2961                      0                        0  ...              0   \n",
       "24                        0                        0  ...              0   \n",
       "2740                      0                        0  ...              0   \n",
       "\n",
       "      Email Marked Spam  Form Submitted on Website  Had a Phone Conversation  \\\n",
       "3112                  0                          0                         0   \n",
       "8413                  0                          0                         0   \n",
       "2961                  0                          0                         0   \n",
       "24                    0                          0                         0   \n",
       "2740                  0                          0                         0   \n",
       "\n",
       "      Modified  Olark Chat Conversation  Page Visited on Website  \\\n",
       "3112         0                        0                        0   \n",
       "8413         0                        0                        0   \n",
       "2961         0                        0                        0   \n",
       "24           0                        0                        0   \n",
       "2740         0                        0                        0   \n",
       "\n",
       "      Resubscribed to emails  Unreachable  View in browser link Clicked  \n",
       "3112                       0            0                             0  \n",
       "8413                       0            0                             0  \n",
       "2961                       0            0                             0  \n",
       "24                         0            0                             0  \n",
       "2740                       0            0                             0  \n",
       "\n",
       "[5 rows x 154 columns]"
      ]
     },
     "execution_count": 124,
     "metadata": {},
     "output_type": "execute_result"
    }
   ],
   "source": [
    "scaler = StandardScaler()\n",
    "\n",
    "X_train[['TotalVisits','Total Time Spent on Website','Page Views Per Visit']] = scaler.fit_transform(X_train[['TotalVisits','Total Time Spent on Website','Page Views Per Visit']])\n",
    "\n",
    "X_train.head()"
   ]
  },
  {
   "cell_type": "markdown",
   "metadata": {},
   "source": [
    "## Feature selection using RFE"
   ]
  },
  {
   "cell_type": "code",
   "execution_count": 125,
   "metadata": {},
   "outputs": [],
   "source": [
    "from sklearn.linear_model import LogisticRegression\n",
    "logreg = LogisticRegression(max_iter=1000)"
   ]
  },
  {
   "cell_type": "code",
   "execution_count": 126,
   "metadata": {},
   "outputs": [],
   "source": [
    "from sklearn.feature_selection import RFE\n",
    "rfe= RFE(logreg, n_features_to_select=20, step=1)         \n",
    "rfe = rfe.fit(X_train, y_train)"
   ]
  },
  {
   "cell_type": "code",
   "execution_count": 127,
   "metadata": {},
   "outputs": [
    {
     "data": {
      "text/plain": [
       "array([False, False, False, False, False, False, False, False, False,\n",
       "       False, False, False, False, False, False, False, False, False,\n",
       "       False, False, False, False,  True, False, False, False,  True,\n",
       "       False, False, False, False, False,  True, False, False, False,\n",
       "       False, False, False, False, False, False, False, False, False,\n",
       "       False, False, False, False, False, False, False, False, False,\n",
       "       False, False, False, False, False, False, False, False, False,\n",
       "       False, False, False, False, False, False, False, False, False,\n",
       "       False, False, False, False, False, False, False, False, False,\n",
       "       False, False, False, False, False, False, False, False, False,\n",
       "       False, False, False, False, False, False, False, False, False,\n",
       "       False, False, False, False, False, False, False, False,  True,\n",
       "       False, False,  True,  True, False, False, False, False,  True,\n",
       "       False,  True,  True, False,  True, False,  True, False, False,\n",
       "       False, False,  True,  True, False, False, False,  True, False,\n",
       "        True,  True,  True, False, False, False, False, False, False,\n",
       "       False, False, False, False,  True,  True,  True, False, False,\n",
       "       False])"
      ]
     },
     "execution_count": 127,
     "metadata": {},
     "output_type": "execute_result"
    }
   ],
   "source": [
    "rfe.support_"
   ]
  },
  {
   "cell_type": "code",
   "execution_count": 128,
   "metadata": {},
   "outputs": [
    {
     "data": {
      "text/plain": [
       "[('Do Not Email', False, 19),\n",
       " ('Do Not Call', False, 65),\n",
       " ('TotalVisits', False, 84),\n",
       " ('Total Time Spent on Website', False, 3),\n",
       " ('Page Views Per Visit', False, 83),\n",
       " ('Search', False, 33),\n",
       " ('X Education Forums', False, 133),\n",
       " ('Newspaper', False, 86),\n",
       " ('Digital Advertisement', False, 110),\n",
       " ('Through Recommendations', False, 75),\n",
       " ('A free copy of Mastering The Interview', False, 76),\n",
       " ('Landing Page Submission', False, 24),\n",
       " ('Quick Add Form', False, 131),\n",
       " ('Direct Traffic', False, 47),\n",
       " ('Facebook', False, 50),\n",
       " ('Google', False, 49),\n",
       " ('Live Chat', False, 4),\n",
       " ('NC_EDM', False, 77),\n",
       " ('Olark Chat', False, 51),\n",
       " ('Organic Search', False, 48),\n",
       " ('Pay per Click Ads', False, 119),\n",
       " ('Press_Release', False, 54),\n",
       " ('Reference', True, 1),\n",
       " ('Referral Sites', False, 25),\n",
       " ('Social Media', False, 93),\n",
       " ('WeLearn', False, 46),\n",
       " ('Welingak Website', True, 1),\n",
       " ('bing', False, 45),\n",
       " ('blog', False, 29),\n",
       " ('testone', False, 114),\n",
       " ('youtubechannel', False, 52),\n",
       " ('Converted to Lead', False, 20),\n",
       " ('Email Bounced', True, 1),\n",
       " ('Email Marked Spam', False, 107),\n",
       " ('Form Submitted on Website', False, 42),\n",
       " ('Had a Phone Conversation', False, 96),\n",
       " ('Olark Chat Conversation', False, 21),\n",
       " ('Page Visited on Website', False, 27),\n",
       " ('Resubscribed to emails', False, 97),\n",
       " ('Unreachable', False, 37),\n",
       " ('View in browser link Clicked', False, 102),\n",
       " ('Visited Booth in Tradeshow', False, 124),\n",
       " ('Australia', False, 18),\n",
       " ('Bahrain', False, 98),\n",
       " ('Bangladesh', False, 53),\n",
       " ('Belgium', False, 135),\n",
       " ('Canada', False, 44),\n",
       " ('China', False, 63),\n",
       " ('Denmark', False, 112),\n",
       " ('France', False, 17),\n",
       " ('Germany', False, 23),\n",
       " ('Ghana', False, 125),\n",
       " ('Hong Kong', False, 13),\n",
       " ('India', False, 118),\n",
       " ('Indonesia', False, 123),\n",
       " ('Italy', False, 31),\n",
       " ('Kenya', False, 122),\n",
       " ('Kuwait', False, 55),\n",
       " ('Liberia', False, 130),\n",
       " ('Malaysia', False, 128),\n",
       " ('Netherlands', False, 104),\n",
       " ('Nigeria', False, 40),\n",
       " ('Oman', False, 56),\n",
       " ('Philippines', False, 115),\n",
       " ('Qatar', False, 34),\n",
       " ('Russia', False, 79),\n",
       " ('Saudi Arabia', False, 35),\n",
       " ('Singapore', False, 92),\n",
       " ('South Africa', False, 14),\n",
       " ('Sri Lanka', False, 129),\n",
       " ('Sweden', False, 127),\n",
       " ('Switzerland', False, 32),\n",
       " ('Tanzania', False, 120),\n",
       " ('Uganda', False, 126),\n",
       " ('United Arab Emirates', False, 117),\n",
       " ('United Kingdom', False, 28),\n",
       " ('United States', False, 95),\n",
       " ('Vietnam', False, 121),\n",
       " ('unknown', False, 39),\n",
       " ('Business Administration', False, 68),\n",
       " ('E-Business', False, 78),\n",
       " ('E-COMMERCE', False, 61),\n",
       " ('Finance Management', False, 71),\n",
       " ('Healthcare Management', False, 82),\n",
       " ('Hospitality Management', False, 74),\n",
       " ('Human Resource Management', False, 70),\n",
       " ('IT Projects Management', False, 58),\n",
       " ('International Business', False, 101),\n",
       " ('Marketing Management', False, 60),\n",
       " ('Media and Advertising', False, 73),\n",
       " ('Operations Management', False, 72),\n",
       " ('Retail Management', False, 106),\n",
       " ('Rural and Agribusiness', False, 69),\n",
       " ('Services Excellence', False, 100),\n",
       " ('Supply Chain Management', False, 59),\n",
       " ('Travel and Tourism', False, 109),\n",
       " ('Email', False, 88),\n",
       " ('Multiple Sources', False, 67),\n",
       " ('Online Search', False, 80),\n",
       " ('Other', False, 81),\n",
       " ('SMS', False, 15),\n",
       " ('Social Media', False, 30),\n",
       " ('Student of SomeSchool', False, 26),\n",
       " ('Word Of Mouth', False, 87),\n",
       " ('Housewife', False, 41),\n",
       " ('Other', False, 91),\n",
       " ('Student', False, 11),\n",
       " ('Working Professional', True, 1),\n",
       " ('Flexibility & Convenience', False, 22),\n",
       " ('Other', False, 132),\n",
       " ('Busy', True, 1),\n",
       " ('Closed by Horizzon', True, 1),\n",
       " ('Diploma holder (Not Eligible)', False, 2),\n",
       " ('Graduation in progress', False, 43),\n",
       " ('In confusion whether part time or DLP', False, 38),\n",
       " ('Interested  in full time MBA', False, 9),\n",
       " ('Interested in Next batch', True, 1),\n",
       " ('Interested in other courses', False, 7),\n",
       " ('Lateral student', True, 1),\n",
       " ('Lost to EINS', True, 1),\n",
       " ('Lost to Others', False, 85),\n",
       " ('Not doing further education', True, 1),\n",
       " ('Recognition issue (DEC approval)', False, 62),\n",
       " ('Ringing', True, 1),\n",
       " ('Shall take in the next coming month', False, 16),\n",
       " ('Still Thinking', False, 89),\n",
       " ('University not recognized', False, 116),\n",
       " ('Want to take admission but has financial problems', False, 90),\n",
       " ('Will revert after reading the email', True, 1),\n",
       " ('in touch with EINS', True, 1),\n",
       " ('invalid number', False, 6),\n",
       " ('number not provided', False, 12),\n",
       " ('opp hangup', False, 64),\n",
       " ('switched off', True, 1),\n",
       " ('wrong number given', False, 8),\n",
       " ('Lateral Student', True, 1),\n",
       " ('Other Leads', True, 1),\n",
       " ('Potential Lead', True, 1),\n",
       " ('Student of SomeSchool', False, 10),\n",
       " ('Other Cities', False, 105),\n",
       " ('Other Cities of Maharashtra', False, 103),\n",
       " ('Other Metro Cities', False, 66),\n",
       " ('Thane & Outskirts', False, 113),\n",
       " ('Tier II Cities', False, 36),\n",
       " ('Email Bounced', False, 57),\n",
       " ('Email Marked Spam', False, 108),\n",
       " ('Form Submitted on Website', False, 134),\n",
       " ('Had a Phone Conversation', False, 5),\n",
       " ('Modified', True, 1),\n",
       " ('Olark Chat Conversation', True, 1),\n",
       " ('Page Visited on Website', True, 1),\n",
       " ('Resubscribed to emails', False, 99),\n",
       " ('Unreachable', False, 94),\n",
       " ('View in browser link Clicked', False, 111)]"
      ]
     },
     "execution_count": 128,
     "metadata": {},
     "output_type": "execute_result"
    }
   ],
   "source": [
    "list(zip(X_train.columns, rfe.support_, rfe.ranking_))"
   ]
  },
  {
   "cell_type": "code",
   "execution_count": 129,
   "metadata": {},
   "outputs": [
    {
     "data": {
      "text/plain": [
       "Index(['Reference', 'Welingak Website', 'Email Bounced',\n",
       "       'Working Professional', 'Busy', 'Closed by Horizzon',\n",
       "       'Interested in Next batch', 'Lateral student', 'Lost to EINS',\n",
       "       'Not doing further education', 'Ringing',\n",
       "       'Will revert after reading the email', 'in touch with EINS',\n",
       "       'switched off', 'Lateral Student', 'Other Leads', 'Potential Lead',\n",
       "       'Modified', 'Olark Chat Conversation', 'Page Visited on Website'],\n",
       "      dtype='object')"
      ]
     },
     "execution_count": 129,
     "metadata": {},
     "output_type": "execute_result"
    }
   ],
   "source": [
    "col = X_train.columns[rfe.support_]\n",
    "col"
   ]
  },
  {
   "cell_type": "code",
   "execution_count": 130,
   "metadata": {
    "scrolled": false
   },
   "outputs": [
    {
     "data": {
      "text/plain": [
       "Index(['Do Not Email', 'Do Not Call', 'TotalVisits',\n",
       "       'Total Time Spent on Website', 'Page Views Per Visit', 'Search',\n",
       "       'X Education Forums', 'Newspaper', 'Digital Advertisement',\n",
       "       'Through Recommendations',\n",
       "       ...\n",
       "       'Other Metro Cities', 'Thane & Outskirts', 'Tier II Cities',\n",
       "       'Email Bounced', 'Email Marked Spam', 'Form Submitted on Website',\n",
       "       'Had a Phone Conversation', 'Resubscribed to emails', 'Unreachable',\n",
       "       'View in browser link Clicked'],\n",
       "      dtype='object', length=134)"
      ]
     },
     "execution_count": 130,
     "metadata": {},
     "output_type": "execute_result"
    }
   ],
   "source": [
    "X_train.columns[~rfe.support_]"
   ]
  },
  {
   "cell_type": "markdown",
   "metadata": {},
   "source": [
    "### Assessing the model with StatsModels"
   ]
  },
  {
   "cell_type": "code",
   "execution_count": 131,
   "metadata": {},
   "outputs": [],
   "source": [
    "import statsmodels.api as sm"
   ]
  },
  {
   "cell_type": "code",
   "execution_count": 132,
   "metadata": {},
   "outputs": [
    {
     "data": {
      "text/html": [
       "<table class=\"simpletable\">\n",
       "<caption>Generalized Linear Model Regression Results</caption>\n",
       "<tr>\n",
       "  <th>Dep. Variable:</th>       <td>Converted</td>    <th>  No. Observations:  </th>  <td>  6468</td> \n",
       "</tr>\n",
       "<tr>\n",
       "  <th>Model:</th>                  <td>GLM</td>       <th>  Df Residuals:      </th>  <td>  6444</td> \n",
       "</tr>\n",
       "<tr>\n",
       "  <th>Model Family:</th>        <td>Binomial</td>     <th>  Df Model:          </th>  <td>    23</td> \n",
       "</tr>\n",
       "<tr>\n",
       "  <th>Link Function:</th>         <td>logit</td>      <th>  Scale:             </th> <td>  1.0000</td>\n",
       "</tr>\n",
       "<tr>\n",
       "  <th>Method:</th>                <td>IRLS</td>       <th>  Log-Likelihood:    </th> <td> -2036.1</td>\n",
       "</tr>\n",
       "<tr>\n",
       "  <th>Date:</th>            <td>Mon, 17 Apr 2023</td> <th>  Deviance:          </th> <td>  4072.2</td>\n",
       "</tr>\n",
       "<tr>\n",
       "  <th>Time:</th>                <td>20:59:54</td>     <th>  Pearson chi2:      </th> <td>1.29e+04</td>\n",
       "</tr>\n",
       "<tr>\n",
       "  <th>No. Iterations:</th>         <td>22</td>        <th>                     </th>     <td> </td>   \n",
       "</tr>\n",
       "<tr>\n",
       "  <th>Covariance Type:</th>     <td>nonrobust</td>    <th>                     </th>     <td> </td>   \n",
       "</tr>\n",
       "</table>\n",
       "<table class=\"simpletable\">\n",
       "<tr>\n",
       "                   <td></td>                      <th>coef</th>     <th>std err</th>      <th>z</th>      <th>P>|z|</th>  <th>[0.025</th>    <th>0.975]</th>  \n",
       "</tr>\n",
       "<tr>\n",
       "  <th>const</th>                               <td>   -4.2544</td> <td>    0.236</td> <td>  -17.997</td> <td> 0.000</td> <td>   -4.718</td> <td>   -3.791</td>\n",
       "</tr>\n",
       "<tr>\n",
       "  <th>Reference</th>                           <td>    1.5833</td> <td>    0.297</td> <td>    5.337</td> <td> 0.000</td> <td>    1.002</td> <td>    2.165</td>\n",
       "</tr>\n",
       "<tr>\n",
       "  <th>Welingak Website</th>                    <td>    4.6033</td> <td>    1.013</td> <td>    4.543</td> <td> 0.000</td> <td>    2.617</td> <td>    6.589</td>\n",
       "</tr>\n",
       "<tr>\n",
       "  <th>Email Bounced</th>                       <td>   -1.7317</td> <td>    0.406</td> <td>   -4.267</td> <td> 0.000</td> <td>   -2.527</td> <td>   -0.936</td>\n",
       "</tr>\n",
       "<tr>\n",
       "  <th>Email Bounced</th>                       <td>    0.5709</td> <td>    0.686</td> <td>    0.833</td> <td> 0.405</td> <td>   -0.773</td> <td>    1.915</td>\n",
       "</tr>\n",
       "<tr>\n",
       "  <th>Working Professional</th>                <td>    2.3923</td> <td>    0.246</td> <td>    9.738</td> <td> 0.000</td> <td>    1.911</td> <td>    2.874</td>\n",
       "</tr>\n",
       "<tr>\n",
       "  <th>Busy</th>                                <td>    4.3635</td> <td>    0.299</td> <td>   14.616</td> <td> 0.000</td> <td>    3.778</td> <td>    4.949</td>\n",
       "</tr>\n",
       "<tr>\n",
       "  <th>Closed by Horizzon</th>                  <td>    8.9462</td> <td>    0.764</td> <td>   11.713</td> <td> 0.000</td> <td>    7.449</td> <td>   10.443</td>\n",
       "</tr>\n",
       "<tr>\n",
       "  <th>Interested in Next batch</th>            <td>   26.3049</td> <td> 3.48e+04</td> <td>    0.001</td> <td> 0.999</td> <td>-6.82e+04</td> <td> 6.82e+04</td>\n",
       "</tr>\n",
       "<tr>\n",
       "  <th>Lateral student</th>                     <td>   28.1170</td> <td> 4.09e+04</td> <td>    0.001</td> <td> 0.999</td> <td>-8.01e+04</td> <td> 8.02e+04</td>\n",
       "</tr>\n",
       "<tr>\n",
       "  <th>Lost to EINS</th>                        <td>    8.5928</td> <td>    0.577</td> <td>   14.904</td> <td> 0.000</td> <td>    7.463</td> <td>    9.723</td>\n",
       "</tr>\n",
       "<tr>\n",
       "  <th>Not doing further education</th>         <td>   -1.4940</td> <td>    1.258</td> <td>   -1.188</td> <td> 0.235</td> <td>   -3.960</td> <td>    0.972</td>\n",
       "</tr>\n",
       "<tr>\n",
       "  <th>Ringing</th>                             <td>   -0.1960</td> <td>    0.320</td> <td>   -0.613</td> <td> 0.540</td> <td>   -0.823</td> <td>    0.431</td>\n",
       "</tr>\n",
       "<tr>\n",
       "  <th>Will revert after reading the email</th> <td>    4.4222</td> <td>    0.235</td> <td>   18.821</td> <td> 0.000</td> <td>    3.962</td> <td>    4.883</td>\n",
       "</tr>\n",
       "<tr>\n",
       "  <th>in touch with EINS</th>                  <td>    2.9699</td> <td>    0.959</td> <td>    3.096</td> <td> 0.002</td> <td>    1.090</td> <td>    4.850</td>\n",
       "</tr>\n",
       "<tr>\n",
       "  <th>switched off</th>                        <td>   -1.7461</td> <td>    1.033</td> <td>   -1.691</td> <td> 0.091</td> <td>   -3.770</td> <td>    0.278</td>\n",
       "</tr>\n",
       "<tr>\n",
       "  <th>Lateral Student</th>                     <td>   24.3886</td> <td> 1.34e+04</td> <td>    0.002</td> <td> 0.999</td> <td>-2.63e+04</td> <td> 2.64e+04</td>\n",
       "</tr>\n",
       "<tr>\n",
       "  <th>Other Leads</th>                         <td>    2.0875</td> <td>    0.249</td> <td>    8.392</td> <td> 0.000</td> <td>    1.600</td> <td>    2.575</td>\n",
       "</tr>\n",
       "<tr>\n",
       "  <th>Potential Lead</th>                      <td>    2.7187</td> <td>    0.152</td> <td>   17.871</td> <td> 0.000</td> <td>    2.421</td> <td>    3.017</td>\n",
       "</tr>\n",
       "<tr>\n",
       "  <th>Modified</th>                            <td>   -1.5194</td> <td>    0.106</td> <td>  -14.339</td> <td> 0.000</td> <td>   -1.727</td> <td>   -1.312</td>\n",
       "</tr>\n",
       "<tr>\n",
       "  <th>Olark Chat Conversation</th>             <td>   -1.0528</td> <td>    0.207</td> <td>   -5.084</td> <td> 0.000</td> <td>   -1.459</td> <td>   -0.647</td>\n",
       "</tr>\n",
       "<tr>\n",
       "  <th>Olark Chat Conversation</th>             <td>   -0.9930</td> <td>    0.370</td> <td>   -2.681</td> <td> 0.007</td> <td>   -1.719</td> <td>   -0.267</td>\n",
       "</tr>\n",
       "<tr>\n",
       "  <th>Page Visited on Website</th>             <td>   -0.2446</td> <td>    0.261</td> <td>   -0.938</td> <td> 0.348</td> <td>   -0.755</td> <td>    0.266</td>\n",
       "</tr>\n",
       "<tr>\n",
       "  <th>Page Visited on Website</th>             <td>   -1.1031</td> <td>    0.339</td> <td>   -3.253</td> <td> 0.001</td> <td>   -1.768</td> <td>   -0.439</td>\n",
       "</tr>\n",
       "</table>"
      ],
      "text/plain": [
       "<class 'statsmodels.iolib.summary.Summary'>\n",
       "\"\"\"\n",
       "                 Generalized Linear Model Regression Results                  \n",
       "==============================================================================\n",
       "Dep. Variable:              Converted   No. Observations:                 6468\n",
       "Model:                            GLM   Df Residuals:                     6444\n",
       "Model Family:                Binomial   Df Model:                           23\n",
       "Link Function:                  logit   Scale:                          1.0000\n",
       "Method:                          IRLS   Log-Likelihood:                -2036.1\n",
       "Date:                Mon, 17 Apr 2023   Deviance:                       4072.2\n",
       "Time:                        20:59:54   Pearson chi2:                 1.29e+04\n",
       "No. Iterations:                    22                                         \n",
       "Covariance Type:            nonrobust                                         \n",
       "=======================================================================================================\n",
       "                                          coef    std err          z      P>|z|      [0.025      0.975]\n",
       "-------------------------------------------------------------------------------------------------------\n",
       "const                                  -4.2544      0.236    -17.997      0.000      -4.718      -3.791\n",
       "Reference                               1.5833      0.297      5.337      0.000       1.002       2.165\n",
       "Welingak Website                        4.6033      1.013      4.543      0.000       2.617       6.589\n",
       "Email Bounced                          -1.7317      0.406     -4.267      0.000      -2.527      -0.936\n",
       "Email Bounced                           0.5709      0.686      0.833      0.405      -0.773       1.915\n",
       "Working Professional                    2.3923      0.246      9.738      0.000       1.911       2.874\n",
       "Busy                                    4.3635      0.299     14.616      0.000       3.778       4.949\n",
       "Closed by Horizzon                      8.9462      0.764     11.713      0.000       7.449      10.443\n",
       "Interested in Next batch               26.3049   3.48e+04      0.001      0.999   -6.82e+04    6.82e+04\n",
       "Lateral student                        28.1170   4.09e+04      0.001      0.999   -8.01e+04    8.02e+04\n",
       "Lost to EINS                            8.5928      0.577     14.904      0.000       7.463       9.723\n",
       "Not doing further education            -1.4940      1.258     -1.188      0.235      -3.960       0.972\n",
       "Ringing                                -0.1960      0.320     -0.613      0.540      -0.823       0.431\n",
       "Will revert after reading the email     4.4222      0.235     18.821      0.000       3.962       4.883\n",
       "in touch with EINS                      2.9699      0.959      3.096      0.002       1.090       4.850\n",
       "switched off                           -1.7461      1.033     -1.691      0.091      -3.770       0.278\n",
       "Lateral Student                        24.3886   1.34e+04      0.002      0.999   -2.63e+04    2.64e+04\n",
       "Other Leads                             2.0875      0.249      8.392      0.000       1.600       2.575\n",
       "Potential Lead                          2.7187      0.152     17.871      0.000       2.421       3.017\n",
       "Modified                               -1.5194      0.106    -14.339      0.000      -1.727      -1.312\n",
       "Olark Chat Conversation                -1.0528      0.207     -5.084      0.000      -1.459      -0.647\n",
       "Olark Chat Conversation                -0.9930      0.370     -2.681      0.007      -1.719      -0.267\n",
       "Page Visited on Website                -0.2446      0.261     -0.938      0.348      -0.755       0.266\n",
       "Page Visited on Website                -1.1031      0.339     -3.253      0.001      -1.768      -0.439\n",
       "=======================================================================================================\n",
       "\"\"\""
      ]
     },
     "execution_count": 132,
     "metadata": {},
     "output_type": "execute_result"
    }
   ],
   "source": [
    "X_train_sm = sm.add_constant(X_train[col])\n",
    "logm2 = sm.GLM(y_train,X_train_sm, family = sm.families.Binomial())\n",
    "res = logm2.fit()\n",
    "res.summary()"
   ]
  },
  {
   "cell_type": "code",
   "execution_count": 133,
   "metadata": {},
   "outputs": [
    {
     "data": {
      "text/plain": [
       "3112    0.541854\n",
       "8413    0.527262\n",
       "2961    0.999876\n",
       "24      0.947176\n",
       "2740    0.011540\n",
       "489     0.421423\n",
       "9116    0.947176\n",
       "4176    0.011540\n",
       "8537    0.102765\n",
       "6267    0.224702\n",
       "dtype: float64"
      ]
     },
     "execution_count": 133,
     "metadata": {},
     "output_type": "execute_result"
    }
   ],
   "source": [
    "# Getting the predicted values on the train set\n",
    "y_train_pred = res.predict(X_train_sm)\n",
    "y_train_pred[:10]"
   ]
  },
  {
   "cell_type": "code",
   "execution_count": 134,
   "metadata": {},
   "outputs": [
    {
     "data": {
      "text/plain": [
       "array([0.54185356, 0.52726196, 0.99987585, 0.94717636, 0.01153972,\n",
       "       0.42142274, 0.94717636, 0.01153972, 0.1027651 , 0.22470181])"
      ]
     },
     "execution_count": 134,
     "metadata": {},
     "output_type": "execute_result"
    }
   ],
   "source": [
    "y_train_pred = y_train_pred.values.reshape(-1)\n",
    "y_train_pred[:10]"
   ]
  },
  {
   "cell_type": "code",
   "execution_count": 135,
   "metadata": {},
   "outputs": [
    {
     "data": {
      "text/html": [
       "<div>\n",
       "<style scoped>\n",
       "    .dataframe tbody tr th:only-of-type {\n",
       "        vertical-align: middle;\n",
       "    }\n",
       "\n",
       "    .dataframe tbody tr th {\n",
       "        vertical-align: top;\n",
       "    }\n",
       "\n",
       "    .dataframe thead th {\n",
       "        text-align: right;\n",
       "    }\n",
       "</style>\n",
       "<table border=\"1\" class=\"dataframe\">\n",
       "  <thead>\n",
       "    <tr style=\"text-align: right;\">\n",
       "      <th></th>\n",
       "      <th>Converted</th>\n",
       "      <th>Converted_Prob</th>\n",
       "      <th>Lead_Id</th>\n",
       "    </tr>\n",
       "  </thead>\n",
       "  <tbody>\n",
       "    <tr>\n",
       "      <th>0</th>\n",
       "      <td>0</td>\n",
       "      <td>0.541854</td>\n",
       "      <td>3112</td>\n",
       "    </tr>\n",
       "    <tr>\n",
       "      <th>1</th>\n",
       "      <td>1</td>\n",
       "      <td>0.527262</td>\n",
       "      <td>8413</td>\n",
       "    </tr>\n",
       "    <tr>\n",
       "      <th>2</th>\n",
       "      <td>1</td>\n",
       "      <td>0.999876</td>\n",
       "      <td>2961</td>\n",
       "    </tr>\n",
       "    <tr>\n",
       "      <th>3</th>\n",
       "      <td>1</td>\n",
       "      <td>0.947176</td>\n",
       "      <td>24</td>\n",
       "    </tr>\n",
       "    <tr>\n",
       "      <th>4</th>\n",
       "      <td>0</td>\n",
       "      <td>0.011540</td>\n",
       "      <td>2740</td>\n",
       "    </tr>\n",
       "  </tbody>\n",
       "</table>\n",
       "</div>"
      ],
      "text/plain": [
       "   Converted  Converted_Prob  Lead_Id\n",
       "0          0        0.541854     3112\n",
       "1          1        0.527262     8413\n",
       "2          1        0.999876     2961\n",
       "3          1        0.947176       24\n",
       "4          0        0.011540     2740"
      ]
     },
     "execution_count": 135,
     "metadata": {},
     "output_type": "execute_result"
    }
   ],
   "source": [
    "#Create Dataframe and find probabilities and lead_id\n",
    "y_train_pred_final = pd.DataFrame({'Converted':y_train.values, 'Converted_Prob':y_train_pred})\n",
    "y_train_pred_final['Lead_Id'] = y_train.index\n",
    "y_train_pred_final.head()\n"
   ]
  },
  {
   "cell_type": "markdown",
   "metadata": {},
   "source": [
    "##### Creating new column 'predicted' with 1 if Lead_conversion Probability > 0.5 else 0"
   ]
  },
  {
   "cell_type": "code",
   "execution_count": 136,
   "metadata": {},
   "outputs": [
    {
     "data": {
      "text/html": [
       "<div>\n",
       "<style scoped>\n",
       "    .dataframe tbody tr th:only-of-type {\n",
       "        vertical-align: middle;\n",
       "    }\n",
       "\n",
       "    .dataframe tbody tr th {\n",
       "        vertical-align: top;\n",
       "    }\n",
       "\n",
       "    .dataframe thead th {\n",
       "        text-align: right;\n",
       "    }\n",
       "</style>\n",
       "<table border=\"1\" class=\"dataframe\">\n",
       "  <thead>\n",
       "    <tr style=\"text-align: right;\">\n",
       "      <th></th>\n",
       "      <th>Converted</th>\n",
       "      <th>Converted_Prob</th>\n",
       "      <th>Lead_Id</th>\n",
       "      <th>predicted</th>\n",
       "    </tr>\n",
       "  </thead>\n",
       "  <tbody>\n",
       "    <tr>\n",
       "      <th>0</th>\n",
       "      <td>0</td>\n",
       "      <td>0.541854</td>\n",
       "      <td>3112</td>\n",
       "      <td>1</td>\n",
       "    </tr>\n",
       "    <tr>\n",
       "      <th>1</th>\n",
       "      <td>1</td>\n",
       "      <td>0.527262</td>\n",
       "      <td>8413</td>\n",
       "      <td>1</td>\n",
       "    </tr>\n",
       "    <tr>\n",
       "      <th>2</th>\n",
       "      <td>1</td>\n",
       "      <td>0.999876</td>\n",
       "      <td>2961</td>\n",
       "      <td>1</td>\n",
       "    </tr>\n",
       "    <tr>\n",
       "      <th>3</th>\n",
       "      <td>1</td>\n",
       "      <td>0.947176</td>\n",
       "      <td>24</td>\n",
       "      <td>1</td>\n",
       "    </tr>\n",
       "    <tr>\n",
       "      <th>4</th>\n",
       "      <td>0</td>\n",
       "      <td>0.011540</td>\n",
       "      <td>2740</td>\n",
       "      <td>0</td>\n",
       "    </tr>\n",
       "  </tbody>\n",
       "</table>\n",
       "</div>"
      ],
      "text/plain": [
       "   Converted  Converted_Prob  Lead_Id  predicted\n",
       "0          0        0.541854     3112          1\n",
       "1          1        0.527262     8413          1\n",
       "2          1        0.999876     2961          1\n",
       "3          1        0.947176       24          1\n",
       "4          0        0.011540     2740          0"
      ]
     },
     "execution_count": 136,
     "metadata": {},
     "output_type": "execute_result"
    }
   ],
   "source": [
    "y_train_pred_final['predicted'] = y_train_pred_final.Converted_Prob.map(lambda x: 1 if x > 0.5 else 0)\n",
    "\n",
    "# Let's see the head\n",
    "y_train_pred_final.head()"
   ]
  },
  {
   "cell_type": "code",
   "execution_count": 137,
   "metadata": {},
   "outputs": [],
   "source": [
    "from sklearn import metrics"
   ]
  },
  {
   "cell_type": "code",
   "execution_count": 138,
   "metadata": {},
   "outputs": [
    {
     "name": "stdout",
     "output_type": "stream",
     "text": [
      "[[3175  779]\n",
      " [ 233 2281]]\n"
     ]
    }
   ],
   "source": [
    "# Confusion matrix \n",
    "confusion = metrics.confusion_matrix(y_train_pred_final.Converted, y_train_pred_final.predicted )\n",
    "print(confusion)"
   ]
  },
  {
   "cell_type": "code",
   "execution_count": 139,
   "metadata": {},
   "outputs": [
    {
     "name": "stdout",
     "output_type": "stream",
     "text": [
      "0.8435374149659864\n"
     ]
    }
   ],
   "source": [
    "# Let's check the overall accuracy.\n",
    "print(metrics.accuracy_score(y_train_pred_final.Converted, y_train_pred_final.predicted))"
   ]
  },
  {
   "cell_type": "markdown",
   "metadata": {},
   "source": [
    "### Checking for VIFs"
   ]
  },
  {
   "cell_type": "code",
   "execution_count": 140,
   "metadata": {},
   "outputs": [],
   "source": [
    "# Check for the VIF values of the feature variables. \n",
    "from statsmodels.stats.outliers_influence import variance_inflation_factor"
   ]
  },
  {
   "cell_type": "code",
   "execution_count": 141,
   "metadata": {},
   "outputs": [
    {
     "data": {
      "text/html": [
       "<div>\n",
       "<style scoped>\n",
       "    .dataframe tbody tr th:only-of-type {\n",
       "        vertical-align: middle;\n",
       "    }\n",
       "\n",
       "    .dataframe tbody tr th {\n",
       "        vertical-align: top;\n",
       "    }\n",
       "\n",
       "    .dataframe thead th {\n",
       "        text-align: right;\n",
       "    }\n",
       "</style>\n",
       "<table border=\"1\" class=\"dataframe\">\n",
       "  <thead>\n",
       "    <tr style=\"text-align: right;\">\n",
       "      <th></th>\n",
       "      <th>Features</th>\n",
       "      <th>VIF</th>\n",
       "    </tr>\n",
       "  </thead>\n",
       "  <tbody>\n",
       "    <tr>\n",
       "      <th>22</th>\n",
       "      <td>Page Visited on Website</td>\n",
       "      <td>2.28</td>\n",
       "    </tr>\n",
       "    <tr>\n",
       "      <th>2</th>\n",
       "      <td>Email Bounced</td>\n",
       "      <td>1.40</td>\n",
       "    </tr>\n",
       "    <tr>\n",
       "      <th>6</th>\n",
       "      <td>Closed by Horizzon</td>\n",
       "      <td>1.35</td>\n",
       "    </tr>\n",
       "    <tr>\n",
       "      <th>20</th>\n",
       "      <td>Olark Chat Conversation</td>\n",
       "      <td>1.34</td>\n",
       "    </tr>\n",
       "    <tr>\n",
       "      <th>3</th>\n",
       "      <td>Email Bounced</td>\n",
       "      <td>1.25</td>\n",
       "    </tr>\n",
       "    <tr>\n",
       "      <th>10</th>\n",
       "      <td>Not doing further education</td>\n",
       "      <td>1.10</td>\n",
       "    </tr>\n",
       "    <tr>\n",
       "      <th>9</th>\n",
       "      <td>Lost to EINS</td>\n",
       "      <td>1.06</td>\n",
       "    </tr>\n",
       "    <tr>\n",
       "      <th>1</th>\n",
       "      <td>Welingak Website</td>\n",
       "      <td>1.04</td>\n",
       "    </tr>\n",
       "    <tr>\n",
       "      <th>15</th>\n",
       "      <td>Lateral Student</td>\n",
       "      <td>1.03</td>\n",
       "    </tr>\n",
       "    <tr>\n",
       "      <th>21</th>\n",
       "      <td>Page Visited on Website</td>\n",
       "      <td>1.03</td>\n",
       "    </tr>\n",
       "    <tr>\n",
       "      <th>5</th>\n",
       "      <td>Busy</td>\n",
       "      <td>1.02</td>\n",
       "    </tr>\n",
       "    <tr>\n",
       "      <th>14</th>\n",
       "      <td>switched off</td>\n",
       "      <td>1.01</td>\n",
       "    </tr>\n",
       "    <tr>\n",
       "      <th>7</th>\n",
       "      <td>Interested in Next batch</td>\n",
       "      <td>1.00</td>\n",
       "    </tr>\n",
       "    <tr>\n",
       "      <th>8</th>\n",
       "      <td>Lateral student</td>\n",
       "      <td>1.00</td>\n",
       "    </tr>\n",
       "    <tr>\n",
       "      <th>13</th>\n",
       "      <td>in touch with EINS</td>\n",
       "      <td>1.00</td>\n",
       "    </tr>\n",
       "    <tr>\n",
       "      <th>0</th>\n",
       "      <td>Reference</td>\n",
       "      <td>0.46</td>\n",
       "    </tr>\n",
       "    <tr>\n",
       "      <th>19</th>\n",
       "      <td>Olark Chat Conversation</td>\n",
       "      <td>0.41</td>\n",
       "    </tr>\n",
       "    <tr>\n",
       "      <th>16</th>\n",
       "      <td>Other Leads</td>\n",
       "      <td>0.27</td>\n",
       "    </tr>\n",
       "    <tr>\n",
       "      <th>17</th>\n",
       "      <td>Potential Lead</td>\n",
       "      <td>0.16</td>\n",
       "    </tr>\n",
       "    <tr>\n",
       "      <th>12</th>\n",
       "      <td>Will revert after reading the email</td>\n",
       "      <td>0.10</td>\n",
       "    </tr>\n",
       "    <tr>\n",
       "      <th>18</th>\n",
       "      <td>Modified</td>\n",
       "      <td>0.08</td>\n",
       "    </tr>\n",
       "    <tr>\n",
       "      <th>11</th>\n",
       "      <td>Ringing</td>\n",
       "      <td>0.08</td>\n",
       "    </tr>\n",
       "    <tr>\n",
       "      <th>4</th>\n",
       "      <td>Working Professional</td>\n",
       "      <td>0.02</td>\n",
       "    </tr>\n",
       "  </tbody>\n",
       "</table>\n",
       "</div>"
      ],
      "text/plain": [
       "                               Features   VIF\n",
       "22              Page Visited on Website  2.28\n",
       "2                         Email Bounced  1.40\n",
       "6                    Closed by Horizzon  1.35\n",
       "20              Olark Chat Conversation  1.34\n",
       "3                         Email Bounced  1.25\n",
       "10          Not doing further education  1.10\n",
       "9                          Lost to EINS  1.06\n",
       "1                      Welingak Website  1.04\n",
       "15                      Lateral Student  1.03\n",
       "21              Page Visited on Website  1.03\n",
       "5                                  Busy  1.02\n",
       "14                         switched off  1.01\n",
       "7              Interested in Next batch  1.00\n",
       "8                       Lateral student  1.00\n",
       "13                   in touch with EINS  1.00\n",
       "0                             Reference  0.46\n",
       "19              Olark Chat Conversation  0.41\n",
       "16                          Other Leads  0.27\n",
       "17                       Potential Lead  0.16\n",
       "12  Will revert after reading the email  0.10\n",
       "18                             Modified  0.08\n",
       "11                              Ringing  0.08\n",
       "4                  Working Professional  0.02"
      ]
     },
     "execution_count": 141,
     "metadata": {},
     "output_type": "execute_result"
    }
   ],
   "source": [
    "# Create a dataframe that will contain the names of all the feature variables and their respective VIFs\n",
    "vif = pd.DataFrame()\n",
    "vif['Features'] = X_train[col].columns\n",
    "vif['VIF'] = [variance_inflation_factor(X_train[col].values, i) for i in range(X_train[col].shape[1])]\n",
    "vif['VIF'] = round(vif['VIF'], 2)\n",
    "vif = vif.sort_values(by = \"VIF\", ascending = False)\n",
    "vif"
   ]
  },
  {
   "cell_type": "markdown",
   "metadata": {},
   "source": [
    "#### As all VIFs are within 5, we need not drop any more variables and we can finalize on this model"
   ]
  },
  {
   "cell_type": "markdown",
   "metadata": {},
   "source": [
    "### Checking other metrics"
   ]
  },
  {
   "cell_type": "code",
   "execution_count": 142,
   "metadata": {},
   "outputs": [],
   "source": [
    "TP = confusion[1,1] # true positive \n",
    "TN = confusion[0,0] # true negatives\n",
    "FP = confusion[0,1] # false positives\n",
    "FN = confusion[1,0] # false negatives"
   ]
  },
  {
   "cell_type": "code",
   "execution_count": 143,
   "metadata": {},
   "outputs": [
    {
     "data": {
      "text/plain": [
       "0.9073190135242641"
      ]
     },
     "execution_count": 143,
     "metadata": {},
     "output_type": "execute_result"
    }
   ],
   "source": [
    "# Let's see the sensitivity of our logistic regression model\n",
    "TP / float(TP+FN)"
   ]
  },
  {
   "cell_type": "code",
   "execution_count": 144,
   "metadata": {},
   "outputs": [
    {
     "data": {
      "text/plain": [
       "0.8029843196762771"
      ]
     },
     "execution_count": 144,
     "metadata": {},
     "output_type": "execute_result"
    }
   ],
   "source": [
    "# Let us calculate specificity\n",
    "TN / float(TN+FP)"
   ]
  },
  {
   "cell_type": "markdown",
   "metadata": {},
   "source": [
    "### ROC Curve analysis"
   ]
  },
  {
   "cell_type": "code",
   "execution_count": 145,
   "metadata": {},
   "outputs": [],
   "source": [
    "def draw_roc( actual, probs ):\n",
    "    fpr, tpr, thresholds = metrics.roc_curve( actual, probs,\n",
    "                                              drop_intermediate = False )\n",
    "    auc_score = metrics.roc_auc_score( actual, probs )\n",
    "    plt.figure(figsize=(5, 5))\n",
    "    plt.plot( fpr, tpr, label='ROC curve (area = %0.2f)' % auc_score )\n",
    "    plt.plot([0, 1], [0, 1], 'k--')\n",
    "    plt.xlim([0.0, 1.0])\n",
    "    plt.ylim([0.0, 1.05])\n",
    "    plt.xlabel('False Positive Rate or [1 - True Negative Rate]')\n",
    "    plt.ylabel('True Positive Rate')\n",
    "    plt.title('Receiver operating characteristic example')\n",
    "    plt.legend(loc=\"lower right\")\n",
    "    plt.show()\n",
    "\n",
    "    return None"
   ]
  },
  {
   "cell_type": "code",
   "execution_count": 146,
   "metadata": {},
   "outputs": [],
   "source": [
    "fpr, tpr, thresholds = metrics.roc_curve( y_train_pred_final.Converted, y_train_pred_final.Converted_Prob, drop_intermediate = False )"
   ]
  },
  {
   "cell_type": "code",
   "execution_count": 147,
   "metadata": {},
   "outputs": [
    {
     "data": {
      "image/png": "[encoded data removed]",
      "text/plain": [
       "<Figure size 360x360 with 1 Axes>"
      ]
     },
     "metadata": {
      "needs_background": "light"
     },
     "output_type": "display_data"
    }
   ],
   "source": [
    "draw_roc(y_train_pred_final.Converted, y_train_pred_final.Converted_Prob)"
   ]
  },
  {
   "cell_type": "markdown",
   "metadata": {},
   "source": [
    "### Finding Optimal Cutoff Point"
   ]
  },
  {
   "cell_type": "code",
   "execution_count": 148,
   "metadata": {},
   "outputs": [
    {
     "data": {
      "text/html": [
       "<div>\n",
       "<style scoped>\n",
       "    .dataframe tbody tr th:only-of-type {\n",
       "        vertical-align: middle;\n",
       "    }\n",
       "\n",
       "    .dataframe tbody tr th {\n",
       "        vertical-align: top;\n",
       "    }\n",
       "\n",
       "    .dataframe thead th {\n",
       "        text-align: right;\n",
       "    }\n",
       "</style>\n",
       "<table border=\"1\" class=\"dataframe\">\n",
       "  <thead>\n",
       "    <tr style=\"text-align: right;\">\n",
       "      <th></th>\n",
       "      <th>Converted</th>\n",
       "      <th>Converted_Prob</th>\n",
       "      <th>Lead_Id</th>\n",
       "      <th>predicted</th>\n",
       "      <th>0.0</th>\n",
       "      <th>0.1</th>\n",
       "      <th>0.2</th>\n",
       "      <th>0.3</th>\n",
       "      <th>0.4</th>\n",
       "      <th>0.5</th>\n",
       "      <th>0.6</th>\n",
       "      <th>0.7</th>\n",
       "      <th>0.8</th>\n",
       "      <th>0.9</th>\n",
       "    </tr>\n",
       "  </thead>\n",
       "  <tbody>\n",
       "    <tr>\n",
       "      <th>0</th>\n",
       "      <td>0</td>\n",
       "      <td>0.541854</td>\n",
       "      <td>3112</td>\n",
       "      <td>1</td>\n",
       "      <td>1</td>\n",
       "      <td>1</td>\n",
       "      <td>1</td>\n",
       "      <td>1</td>\n",
       "      <td>1</td>\n",
       "      <td>1</td>\n",
       "      <td>0</td>\n",
       "      <td>0</td>\n",
       "      <td>0</td>\n",
       "      <td>0</td>\n",
       "    </tr>\n",
       "    <tr>\n",
       "      <th>1</th>\n",
       "      <td>1</td>\n",
       "      <td>0.527262</td>\n",
       "      <td>8413</td>\n",
       "      <td>1</td>\n",
       "      <td>1</td>\n",
       "      <td>1</td>\n",
       "      <td>1</td>\n",
       "      <td>1</td>\n",
       "      <td>1</td>\n",
       "      <td>1</td>\n",
       "      <td>0</td>\n",
       "      <td>0</td>\n",
       "      <td>0</td>\n",
       "      <td>0</td>\n",
       "    </tr>\n",
       "    <tr>\n",
       "      <th>2</th>\n",
       "      <td>1</td>\n",
       "      <td>0.999876</td>\n",
       "      <td>2961</td>\n",
       "      <td>1</td>\n",
       "      <td>1</td>\n",
       "      <td>1</td>\n",
       "      <td>1</td>\n",
       "      <td>1</td>\n",
       "      <td>1</td>\n",
       "      <td>1</td>\n",
       "      <td>1</td>\n",
       "      <td>1</td>\n",
       "      <td>1</td>\n",
       "      <td>1</td>\n",
       "    </tr>\n",
       "    <tr>\n",
       "      <th>3</th>\n",
       "      <td>1</td>\n",
       "      <td>0.947176</td>\n",
       "      <td>24</td>\n",
       "      <td>1</td>\n",
       "      <td>1</td>\n",
       "      <td>1</td>\n",
       "      <td>1</td>\n",
       "      <td>1</td>\n",
       "      <td>1</td>\n",
       "      <td>1</td>\n",
       "      <td>1</td>\n",
       "      <td>1</td>\n",
       "      <td>1</td>\n",
       "      <td>1</td>\n",
       "    </tr>\n",
       "    <tr>\n",
       "      <th>4</th>\n",
       "      <td>0</td>\n",
       "      <td>0.011540</td>\n",
       "      <td>2740</td>\n",
       "      <td>0</td>\n",
       "      <td>1</td>\n",
       "      <td>0</td>\n",
       "      <td>0</td>\n",
       "      <td>0</td>\n",
       "      <td>0</td>\n",
       "      <td>0</td>\n",
       "      <td>0</td>\n",
       "      <td>0</td>\n",
       "      <td>0</td>\n",
       "      <td>0</td>\n",
       "    </tr>\n",
       "  </tbody>\n",
       "</table>\n",
       "</div>"
      ],
      "text/plain": [
       "   Converted  Converted_Prob  Lead_Id  predicted  0.0  0.1  0.2  0.3  0.4  \\\n",
       "0          0        0.541854     3112          1    1    1    1    1    1   \n",
       "1          1        0.527262     8413          1    1    1    1    1    1   \n",
       "2          1        0.999876     2961          1    1    1    1    1    1   \n",
       "3          1        0.947176       24          1    1    1    1    1    1   \n",
       "4          0        0.011540     2740          0    1    0    0    0    0   \n",
       "\n",
       "   0.5  0.6  0.7  0.8  0.9  \n",
       "0    1    0    0    0    0  \n",
       "1    1    0    0    0    0  \n",
       "2    1    1    1    1    1  \n",
       "3    1    1    1    1    1  \n",
       "4    0    0    0    0    0  "
      ]
     },
     "execution_count": 148,
     "metadata": {},
     "output_type": "execute_result"
    }
   ],
   "source": [
    "# Let's create columns with different probability cutoffs \n",
    "numbers = [float(x)/10 for x in range(10)]\n",
    "for i in numbers:\n",
    "    y_train_pred_final[i]= y_train_pred_final.Converted_Prob.map(lambda x: 1 if x > i else 0)\n",
    "y_train_pred_final.head()"
   ]
  },
  {
   "cell_type": "code",
   "execution_count": 149,
   "metadata": {},
   "outputs": [
    {
     "name": "stdout",
     "output_type": "stream",
     "text": [
      "     prob  accuracy     sensi     speci\n",
      "0.0   0.0  0.388683  1.000000  0.000000\n",
      "0.1   0.1  0.737477  0.973747  0.587253\n",
      "0.2   0.2  0.780921  0.957041  0.668943\n",
      "0.3   0.3  0.842919  0.909706  0.800455\n",
      "0.4   0.4  0.843847  0.909706  0.801973\n",
      "0.5   0.5  0.843537  0.907319  0.802984\n",
      "0.6   0.6  0.828695  0.577168  0.988619\n",
      "0.7   0.7  0.826840  0.571201  0.989378\n",
      "0.8   0.8  0.814935  0.536595  0.991907\n",
      "0.9   0.9  0.806741  0.513922  0.992919\n"
     ]
    }
   ],
   "source": [
    "# Now let's calculate accuracy sensitivity and specificity for various probability cutoffs.\n",
    "cutoff_df = pd.DataFrame( columns = ['prob','accuracy','sensi','speci'])\n",
    "from sklearn.metrics import confusion_matrix\n",
    "\n",
    "# TP = confusion[1,1] # true positive \n",
    "# TN = confusion[0,0] # true negatives\n",
    "# FP = confusion[0,1] # false positives\n",
    "# FN = confusion[1,0] # false negatives\n",
    "\n",
    "num = [0.0,0.1,0.2,0.3,0.4,0.5,0.6,0.7,0.8,0.9]\n",
    "for i in num:\n",
    "    cm1 = metrics.confusion_matrix(y_train_pred_final.Converted, y_train_pred_final[i] )\n",
    "    total1=sum(sum(cm1))\n",
    "    accuracy = (cm1[0,0]+cm1[1,1])/total1\n",
    "    \n",
    "    speci = cm1[0,0]/(cm1[0,0]+cm1[0,1])\n",
    "    sensi = cm1[1,1]/(cm1[1,0]+cm1[1,1])\n",
    "    cutoff_df.loc[i] =[ i ,accuracy,sensi,speci]\n",
    "print(cutoff_df)"
   ]
  },
  {
   "cell_type": "code",
   "execution_count": 150,
   "metadata": {},
   "outputs": [
    {
     "data": {
      "image/png": "[encoded data removed]",
      "text/plain": [
       "<Figure size 432x288 with 1 Axes>"
      ]
     },
     "metadata": {
      "needs_background": "light"
     },
     "output_type": "display_data"
    }
   ],
   "source": [
    "# Let's plot accuracy sensitivity and specificity for various probabilities.\n",
    "cutoff_df.plot.line(x='prob', y=['accuracy','sensi','speci'])\n",
    "plt.show()"
   ]
  },
  {
   "cell_type": "markdown",
   "metadata": {},
   "source": [
    "### The cutoff we have chosen i.e., 0.5 holds good and supported by the above graph"
   ]
  },
  {
   "cell_type": "markdown",
   "metadata": {},
   "source": [
    "### Now calculating Precision and Recall\n",
    "Precision tells us how accurate the model was in predicting the positive samples out of all the samples predicted to be positive. \n",
    "Recall tells us how accurately the model was able to identify the positive samples out of all positive samples that were actually present.\n",
    "\n",
    "Here, we should prefer high recall as the positive leads identified correctly need to be approached with out wasting time on leads that are wrongly predicted as positive."
   ]
  },
  {
   "cell_type": "code",
   "execution_count": 151,
   "metadata": {},
   "outputs": [
    {
     "data": {
      "text/plain": [
       "array([[3175,  779],\n",
       "       [ 233, 2281]], dtype=int64)"
      ]
     },
     "execution_count": 151,
     "metadata": {},
     "output_type": "execute_result"
    }
   ],
   "source": [
    "confusion = metrics.confusion_matrix(y_train_pred_final.Converted, y_train_pred_final.predicted )\n",
    "confusion"
   ]
  },
  {
   "cell_type": "code",
   "execution_count": 152,
   "metadata": {},
   "outputs": [
    {
     "data": {
      "text/plain": [
       "0.7454248366013072"
      ]
     },
     "execution_count": 152,
     "metadata": {},
     "output_type": "execute_result"
    }
   ],
   "source": [
    "precision=confusion[1,1]/(confusion[0,1]+confusion[1,1])\n",
    "precision"
   ]
  },
  {
   "cell_type": "code",
   "execution_count": 153,
   "metadata": {},
   "outputs": [
    {
     "data": {
      "text/plain": [
       "0.9073190135242641"
      ]
     },
     "execution_count": 153,
     "metadata": {},
     "output_type": "execute_result"
    }
   ],
   "source": [
    "recall=confusion[1,1]/(confusion[1,0]+confusion[1,1])\n",
    "recall"
   ]
  },
  {
   "cell_type": "markdown",
   "metadata": {},
   "source": [
    "# We can finalize on this model as the recall as well, is high along with the accuracy metric."
   ]
  },
  {
   "cell_type": "markdown",
   "metadata": {},
   "source": [
    "### Making predictions on the test set"
   ]
  },
  {
   "cell_type": "code",
   "execution_count": 154,
   "metadata": {},
   "outputs": [
    {
     "name": "stderr",
     "output_type": "stream",
     "text": [
      "C:\\Users\\mvrao\\Anaconda3\\lib\\site-packages\\ipykernel_launcher.py:1: SettingWithCopyWarning: \n",
      "A value is trying to be set on a copy of a slice from a DataFrame.\n",
      "Try using .loc[row_indexer,col_indexer] = value instead\n",
      "\n",
      "See the caveats in the documentation: https://pandas.pydata.org/pandas-docs/stable/user_guide/indexing.html#returning-a-view-versus-a-copy\n",
      "  \"\"\"Entry point for launching an IPython kernel.\n",
      "C:\\Users\\mvrao\\Anaconda3\\lib\\site-packages\\pandas\\core\\indexing.py:966: SettingWithCopyWarning: \n",
      "A value is trying to be set on a copy of a slice from a DataFrame.\n",
      "Try using .loc[row_indexer,col_indexer] = value instead\n",
      "\n",
      "See the caveats in the documentation: https://pandas.pydata.org/pandas-docs/stable/user_guide/indexing.html#returning-a-view-versus-a-copy\n",
      "  self.obj[item] = s\n"
     ]
    }
   ],
   "source": [
    "X_test[['TotalVisits','Total Time Spent on Website','Page Views Per Visit']] = scaler.fit_transform(X_test[['TotalVisits','Total Time Spent on Website','Page Views Per Visit']])\n"
   ]
  },
  {
   "cell_type": "code",
   "execution_count": 155,
   "metadata": {},
   "outputs": [
    {
     "data": {
      "text/html": [
       "<div>\n",
       "<style scoped>\n",
       "    .dataframe tbody tr th:only-of-type {\n",
       "        vertical-align: middle;\n",
       "    }\n",
       "\n",
       "    .dataframe tbody tr th {\n",
       "        vertical-align: top;\n",
       "    }\n",
       "\n",
       "    .dataframe thead th {\n",
       "        text-align: right;\n",
       "    }\n",
       "</style>\n",
       "<table border=\"1\" class=\"dataframe\">\n",
       "  <thead>\n",
       "    <tr style=\"text-align: right;\">\n",
       "      <th></th>\n",
       "      <th>Reference</th>\n",
       "      <th>Welingak Website</th>\n",
       "      <th>Email Bounced</th>\n",
       "      <th>Email Bounced</th>\n",
       "      <th>Working Professional</th>\n",
       "      <th>Busy</th>\n",
       "      <th>Closed by Horizzon</th>\n",
       "      <th>Interested in Next batch</th>\n",
       "      <th>Lateral student</th>\n",
       "      <th>Lost to EINS</th>\n",
       "      <th>...</th>\n",
       "      <th>in touch with EINS</th>\n",
       "      <th>switched off</th>\n",
       "      <th>Lateral Student</th>\n",
       "      <th>Other Leads</th>\n",
       "      <th>Potential Lead</th>\n",
       "      <th>Modified</th>\n",
       "      <th>Olark Chat Conversation</th>\n",
       "      <th>Olark Chat Conversation</th>\n",
       "      <th>Page Visited on Website</th>\n",
       "      <th>Page Visited on Website</th>\n",
       "    </tr>\n",
       "  </thead>\n",
       "  <tbody>\n",
       "    <tr>\n",
       "      <th>567</th>\n",
       "      <td>0</td>\n",
       "      <td>0</td>\n",
       "      <td>0</td>\n",
       "      <td>0</td>\n",
       "      <td>0</td>\n",
       "      <td>0</td>\n",
       "      <td>0</td>\n",
       "      <td>0</td>\n",
       "      <td>0</td>\n",
       "      <td>0</td>\n",
       "      <td>...</td>\n",
       "      <td>0</td>\n",
       "      <td>0</td>\n",
       "      <td>0</td>\n",
       "      <td>0</td>\n",
       "      <td>0</td>\n",
       "      <td>0</td>\n",
       "      <td>0</td>\n",
       "      <td>0</td>\n",
       "      <td>0</td>\n",
       "      <td>0</td>\n",
       "    </tr>\n",
       "    <tr>\n",
       "      <th>2303</th>\n",
       "      <td>0</td>\n",
       "      <td>0</td>\n",
       "      <td>0</td>\n",
       "      <td>0</td>\n",
       "      <td>0</td>\n",
       "      <td>0</td>\n",
       "      <td>0</td>\n",
       "      <td>0</td>\n",
       "      <td>0</td>\n",
       "      <td>0</td>\n",
       "      <td>...</td>\n",
       "      <td>0</td>\n",
       "      <td>0</td>\n",
       "      <td>0</td>\n",
       "      <td>1</td>\n",
       "      <td>0</td>\n",
       "      <td>1</td>\n",
       "      <td>0</td>\n",
       "      <td>0</td>\n",
       "      <td>0</td>\n",
       "      <td>0</td>\n",
       "    </tr>\n",
       "    <tr>\n",
       "      <th>1523</th>\n",
       "      <td>0</td>\n",
       "      <td>0</td>\n",
       "      <td>0</td>\n",
       "      <td>0</td>\n",
       "      <td>0</td>\n",
       "      <td>0</td>\n",
       "      <td>0</td>\n",
       "      <td>0</td>\n",
       "      <td>0</td>\n",
       "      <td>0</td>\n",
       "      <td>...</td>\n",
       "      <td>0</td>\n",
       "      <td>0</td>\n",
       "      <td>0</td>\n",
       "      <td>0</td>\n",
       "      <td>0</td>\n",
       "      <td>0</td>\n",
       "      <td>0</td>\n",
       "      <td>0</td>\n",
       "      <td>0</td>\n",
       "      <td>0</td>\n",
       "    </tr>\n",
       "    <tr>\n",
       "      <th>6923</th>\n",
       "      <td>0</td>\n",
       "      <td>0</td>\n",
       "      <td>0</td>\n",
       "      <td>0</td>\n",
       "      <td>0</td>\n",
       "      <td>0</td>\n",
       "      <td>0</td>\n",
       "      <td>0</td>\n",
       "      <td>0</td>\n",
       "      <td>0</td>\n",
       "      <td>...</td>\n",
       "      <td>0</td>\n",
       "      <td>0</td>\n",
       "      <td>0</td>\n",
       "      <td>0</td>\n",
       "      <td>0</td>\n",
       "      <td>0</td>\n",
       "      <td>0</td>\n",
       "      <td>0</td>\n",
       "      <td>0</td>\n",
       "      <td>0</td>\n",
       "    </tr>\n",
       "    <tr>\n",
       "      <th>7841</th>\n",
       "      <td>0</td>\n",
       "      <td>0</td>\n",
       "      <td>0</td>\n",
       "      <td>0</td>\n",
       "      <td>0</td>\n",
       "      <td>0</td>\n",
       "      <td>0</td>\n",
       "      <td>0</td>\n",
       "      <td>0</td>\n",
       "      <td>0</td>\n",
       "      <td>...</td>\n",
       "      <td>0</td>\n",
       "      <td>0</td>\n",
       "      <td>0</td>\n",
       "      <td>0</td>\n",
       "      <td>0</td>\n",
       "      <td>0</td>\n",
       "      <td>0</td>\n",
       "      <td>0</td>\n",
       "      <td>0</td>\n",
       "      <td>0</td>\n",
       "    </tr>\n",
       "  </tbody>\n",
       "</table>\n",
       "<p>5 rows × 23 columns</p>\n",
       "</div>"
      ],
      "text/plain": [
       "      Reference  Welingak Website  Email Bounced  Email Bounced  \\\n",
       "567           0                 0              0              0   \n",
       "2303          0                 0              0              0   \n",
       "1523          0                 0              0              0   \n",
       "6923          0                 0              0              0   \n",
       "7841          0                 0              0              0   \n",
       "\n",
       "      Working Professional  Busy  Closed by Horizzon  \\\n",
       "567                      0     0                   0   \n",
       "2303                     0     0                   0   \n",
       "1523                     0     0                   0   \n",
       "6923                     0     0                   0   \n",
       "7841                     0     0                   0   \n",
       "\n",
       "      Interested in Next batch  Lateral student  Lost to EINS  ...  \\\n",
       "567                          0                0             0  ...   \n",
       "2303                         0                0             0  ...   \n",
       "1523                         0                0             0  ...   \n",
       "6923                         0                0             0  ...   \n",
       "7841                         0                0             0  ...   \n",
       "\n",
       "      in touch with EINS  switched off  Lateral Student  Other Leads  \\\n",
       "567                    0             0                0            0   \n",
       "2303                   0             0                0            1   \n",
       "1523                   0             0                0            0   \n",
       "6923                   0             0                0            0   \n",
       "7841                   0             0                0            0   \n",
       "\n",
       "      Potential Lead  Modified  Olark Chat Conversation  \\\n",
       "567                0         0                        0   \n",
       "2303               0         1                        0   \n",
       "1523               0         0                        0   \n",
       "6923               0         0                        0   \n",
       "7841               0         0                        0   \n",
       "\n",
       "      Olark Chat Conversation  Page Visited on Website  \\\n",
       "567                         0                        0   \n",
       "2303                        0                        0   \n",
       "1523                        0                        0   \n",
       "6923                        0                        0   \n",
       "7841                        0                        0   \n",
       "\n",
       "      Page Visited on Website  \n",
       "567                         0  \n",
       "2303                        0  \n",
       "1523                        0  \n",
       "6923                        0  \n",
       "7841                        0  \n",
       "\n",
       "[5 rows x 23 columns]"
      ]
     },
     "execution_count": 155,
     "metadata": {},
     "output_type": "execute_result"
    }
   ],
   "source": [
    "X_test=X_test[col]\n",
    "X_test.head()"
   ]
  },
  {
   "cell_type": "code",
   "execution_count": 156,
   "metadata": {},
   "outputs": [],
   "source": [
    "X_test_sm = sm.add_constant(X_test)"
   ]
  },
  {
   "cell_type": "code",
   "execution_count": 157,
   "metadata": {},
   "outputs": [],
   "source": [
    "y_test_pred = res.predict(X_test_sm)"
   ]
  },
  {
   "cell_type": "code",
   "execution_count": 158,
   "metadata": {},
   "outputs": [
    {
     "data": {
      "text/plain": [
       "567     0.011540\n",
       "2303    0.024452\n",
       "1523    0.014003\n",
       "6923    0.541854\n",
       "7841    0.014003\n",
       "3036    0.003098\n",
       "2427    0.928247\n",
       "8667    0.527262\n",
       "3245    0.541854\n",
       "1805    0.541854\n",
       "dtype: float64"
      ]
     },
     "execution_count": 158,
     "metadata": {},
     "output_type": "execute_result"
    }
   ],
   "source": [
    "y_test_pred[:10]"
   ]
  },
  {
   "cell_type": "code",
   "execution_count": 159,
   "metadata": {},
   "outputs": [],
   "source": [
    "# Converting y_pred to a dataframe which is an array\n",
    "y_pred_1 = pd.DataFrame(y_test_pred)"
   ]
  },
  {
   "cell_type": "code",
   "execution_count": 160,
   "metadata": {},
   "outputs": [
    {
     "data": {
      "text/html": [
       "<div>\n",
       "<style scoped>\n",
       "    .dataframe tbody tr th:only-of-type {\n",
       "        vertical-align: middle;\n",
       "    }\n",
       "\n",
       "    .dataframe tbody tr th {\n",
       "        vertical-align: top;\n",
       "    }\n",
       "\n",
       "    .dataframe thead th {\n",
       "        text-align: right;\n",
       "    }\n",
       "</style>\n",
       "<table border=\"1\" class=\"dataframe\">\n",
       "  <thead>\n",
       "    <tr style=\"text-align: right;\">\n",
       "      <th></th>\n",
       "      <th>0</th>\n",
       "    </tr>\n",
       "  </thead>\n",
       "  <tbody>\n",
       "    <tr>\n",
       "      <th>567</th>\n",
       "      <td>0.011540</td>\n",
       "    </tr>\n",
       "    <tr>\n",
       "      <th>2303</th>\n",
       "      <td>0.024452</td>\n",
       "    </tr>\n",
       "    <tr>\n",
       "      <th>1523</th>\n",
       "      <td>0.014003</td>\n",
       "    </tr>\n",
       "    <tr>\n",
       "      <th>6923</th>\n",
       "      <td>0.541854</td>\n",
       "    </tr>\n",
       "    <tr>\n",
       "      <th>7841</th>\n",
       "      <td>0.014003</td>\n",
       "    </tr>\n",
       "  </tbody>\n",
       "</table>\n",
       "</div>"
      ],
      "text/plain": [
       "             0\n",
       "567   0.011540\n",
       "2303  0.024452\n",
       "1523  0.014003\n",
       "6923  0.541854\n",
       "7841  0.014003"
      ]
     },
     "execution_count": 160,
     "metadata": {},
     "output_type": "execute_result"
    }
   ],
   "source": [
    "y_pred_1.head()"
   ]
  },
  {
   "cell_type": "code",
   "execution_count": 161,
   "metadata": {},
   "outputs": [],
   "source": [
    "# Converting y_test to dataframe\n",
    "y_test_df = pd.DataFrame(y_test)"
   ]
  },
  {
   "cell_type": "code",
   "execution_count": 162,
   "metadata": {},
   "outputs": [],
   "source": [
    "# Removing index for both dataframes to append them side by side \n",
    "y_pred_1.reset_index(drop=True, inplace=True)\n",
    "y_test_df.reset_index(drop=True, inplace=True)"
   ]
  },
  {
   "cell_type": "code",
   "execution_count": 163,
   "metadata": {},
   "outputs": [],
   "source": [
    "# Appending y_test_df and y_pred_1\n",
    "y_pred_final = pd.concat([y_test_df, y_pred_1],axis=1)"
   ]
  },
  {
   "cell_type": "code",
   "execution_count": 164,
   "metadata": {},
   "outputs": [
    {
     "data": {
      "text/html": [
       "<div>\n",
       "<style scoped>\n",
       "    .dataframe tbody tr th:only-of-type {\n",
       "        vertical-align: middle;\n",
       "    }\n",
       "\n",
       "    .dataframe tbody tr th {\n",
       "        vertical-align: top;\n",
       "    }\n",
       "\n",
       "    .dataframe thead th {\n",
       "        text-align: right;\n",
       "    }\n",
       "</style>\n",
       "<table border=\"1\" class=\"dataframe\">\n",
       "  <thead>\n",
       "    <tr style=\"text-align: right;\">\n",
       "      <th></th>\n",
       "      <th>Converted</th>\n",
       "      <th>0</th>\n",
       "    </tr>\n",
       "  </thead>\n",
       "  <tbody>\n",
       "    <tr>\n",
       "      <th>0</th>\n",
       "      <td>0</td>\n",
       "      <td>0.011540</td>\n",
       "    </tr>\n",
       "    <tr>\n",
       "      <th>1</th>\n",
       "      <td>0</td>\n",
       "      <td>0.024452</td>\n",
       "    </tr>\n",
       "    <tr>\n",
       "      <th>2</th>\n",
       "      <td>0</td>\n",
       "      <td>0.014003</td>\n",
       "    </tr>\n",
       "    <tr>\n",
       "      <th>3</th>\n",
       "      <td>0</td>\n",
       "      <td>0.541854</td>\n",
       "    </tr>\n",
       "    <tr>\n",
       "      <th>4</th>\n",
       "      <td>0</td>\n",
       "      <td>0.014003</td>\n",
       "    </tr>\n",
       "  </tbody>\n",
       "</table>\n",
       "</div>"
      ],
      "text/plain": [
       "   Converted         0\n",
       "0          0  0.011540\n",
       "1          0  0.024452\n",
       "2          0  0.014003\n",
       "3          0  0.541854\n",
       "4          0  0.014003"
      ]
     },
     "execution_count": 164,
     "metadata": {},
     "output_type": "execute_result"
    }
   ],
   "source": [
    "y_pred_final.head()"
   ]
  },
  {
   "cell_type": "code",
   "execution_count": 165,
   "metadata": {},
   "outputs": [],
   "source": [
    "# Renaming the column \n",
    "y_pred_final= y_pred_final.rename(columns={ 0 : 'Converted_Prob'})"
   ]
  },
  {
   "cell_type": "code",
   "execution_count": 166,
   "metadata": {},
   "outputs": [
    {
     "data": {
      "text/html": [
       "<div>\n",
       "<style scoped>\n",
       "    .dataframe tbody tr th:only-of-type {\n",
       "        vertical-align: middle;\n",
       "    }\n",
       "\n",
       "    .dataframe tbody tr th {\n",
       "        vertical-align: top;\n",
       "    }\n",
       "\n",
       "    .dataframe thead th {\n",
       "        text-align: right;\n",
       "    }\n",
       "</style>\n",
       "<table border=\"1\" class=\"dataframe\">\n",
       "  <thead>\n",
       "    <tr style=\"text-align: right;\">\n",
       "      <th></th>\n",
       "      <th>Converted</th>\n",
       "      <th>Converted_Prob</th>\n",
       "    </tr>\n",
       "  </thead>\n",
       "  <tbody>\n",
       "    <tr>\n",
       "      <th>0</th>\n",
       "      <td>0</td>\n",
       "      <td>0.011540</td>\n",
       "    </tr>\n",
       "    <tr>\n",
       "      <th>1</th>\n",
       "      <td>0</td>\n",
       "      <td>0.024452</td>\n",
       "    </tr>\n",
       "    <tr>\n",
       "      <th>2</th>\n",
       "      <td>0</td>\n",
       "      <td>0.014003</td>\n",
       "    </tr>\n",
       "    <tr>\n",
       "      <th>3</th>\n",
       "      <td>0</td>\n",
       "      <td>0.541854</td>\n",
       "    </tr>\n",
       "    <tr>\n",
       "      <th>4</th>\n",
       "      <td>0</td>\n",
       "      <td>0.014003</td>\n",
       "    </tr>\n",
       "  </tbody>\n",
       "</table>\n",
       "</div>"
      ],
      "text/plain": [
       "   Converted  Converted_Prob\n",
       "0          0        0.011540\n",
       "1          0        0.024452\n",
       "2          0        0.014003\n",
       "3          0        0.541854\n",
       "4          0        0.014003"
      ]
     },
     "execution_count": 166,
     "metadata": {},
     "output_type": "execute_result"
    }
   ],
   "source": [
    "# Let's see the head of y_pred_final\n",
    "y_pred_final.head()"
   ]
  },
  {
   "cell_type": "code",
   "execution_count": 167,
   "metadata": {},
   "outputs": [],
   "source": [
    "y_pred_final['final_predicted'] = y_pred_final.Converted_Prob.map(lambda x: 1 if x > 0.5 else 0)"
   ]
  },
  {
   "cell_type": "code",
   "execution_count": 168,
   "metadata": {},
   "outputs": [],
   "source": [
    "y_pred_final['Lead_ID'] =y_pred_final.index "
   ]
  },
  {
   "cell_type": "code",
   "execution_count": 169,
   "metadata": {},
   "outputs": [
    {
     "data": {
      "text/html": [
       "<div>\n",
       "<style scoped>\n",
       "    .dataframe tbody tr th:only-of-type {\n",
       "        vertical-align: middle;\n",
       "    }\n",
       "\n",
       "    .dataframe tbody tr th {\n",
       "        vertical-align: top;\n",
       "    }\n",
       "\n",
       "    .dataframe thead th {\n",
       "        text-align: right;\n",
       "    }\n",
       "</style>\n",
       "<table border=\"1\" class=\"dataframe\">\n",
       "  <thead>\n",
       "    <tr style=\"text-align: right;\">\n",
       "      <th></th>\n",
       "      <th>Converted</th>\n",
       "      <th>Converted_Prob</th>\n",
       "      <th>final_predicted</th>\n",
       "      <th>Lead_ID</th>\n",
       "    </tr>\n",
       "  </thead>\n",
       "  <tbody>\n",
       "    <tr>\n",
       "      <th>0</th>\n",
       "      <td>0</td>\n",
       "      <td>0.011540</td>\n",
       "      <td>0</td>\n",
       "      <td>0</td>\n",
       "    </tr>\n",
       "    <tr>\n",
       "      <th>1</th>\n",
       "      <td>0</td>\n",
       "      <td>0.024452</td>\n",
       "      <td>0</td>\n",
       "      <td>1</td>\n",
       "    </tr>\n",
       "    <tr>\n",
       "      <th>2</th>\n",
       "      <td>0</td>\n",
       "      <td>0.014003</td>\n",
       "      <td>0</td>\n",
       "      <td>2</td>\n",
       "    </tr>\n",
       "    <tr>\n",
       "      <th>3</th>\n",
       "      <td>0</td>\n",
       "      <td>0.541854</td>\n",
       "      <td>1</td>\n",
       "      <td>3</td>\n",
       "    </tr>\n",
       "    <tr>\n",
       "      <th>4</th>\n",
       "      <td>0</td>\n",
       "      <td>0.014003</td>\n",
       "      <td>0</td>\n",
       "      <td>4</td>\n",
       "    </tr>\n",
       "  </tbody>\n",
       "</table>\n",
       "</div>"
      ],
      "text/plain": [
       "   Converted  Converted_Prob  final_predicted  Lead_ID\n",
       "0          0        0.011540                0        0\n",
       "1          0        0.024452                0        1\n",
       "2          0        0.014003                0        2\n",
       "3          0        0.541854                1        3\n",
       "4          0        0.014003                0        4"
      ]
     },
     "execution_count": 169,
     "metadata": {},
     "output_type": "execute_result"
    }
   ],
   "source": [
    "y_pred_final.head()"
   ]
  },
  {
   "cell_type": "code",
   "execution_count": 170,
   "metadata": {},
   "outputs": [
    {
     "data": {
      "text/plain": [
       "0.8520923520923521"
      ]
     },
     "execution_count": 170,
     "metadata": {},
     "output_type": "execute_result"
    }
   ],
   "source": [
    "#Overall accuracy.\n",
    "metrics.accuracy_score(y_pred_final.Converted, y_pred_final.final_predicted)"
   ]
  },
  {
   "cell_type": "code",
   "execution_count": 171,
   "metadata": {},
   "outputs": [
    {
     "data": {
      "text/plain": [
       "array([[1393,  332],\n",
       "       [  78,  969]], dtype=int64)"
      ]
     },
     "execution_count": 171,
     "metadata": {},
     "output_type": "execute_result"
    }
   ],
   "source": [
    "confusion11 = metrics.confusion_matrix(y_pred_final.Converted, y_pred_final.final_predicted )\n",
    "confusion11"
   ]
  },
  {
   "cell_type": "code",
   "execution_count": 172,
   "metadata": {},
   "outputs": [],
   "source": [
    "TP = confusion11[1,1] # true positive \n",
    "TN = confusion11[0,0] # true negatives\n",
    "FP = confusion11[0,1] # false positives\n",
    "FN = confusion11[1,0] # false negatives"
   ]
  },
  {
   "cell_type": "code",
   "execution_count": 173,
   "metadata": {},
   "outputs": [
    {
     "name": "stdout",
     "output_type": "stream",
     "text": [
      "0.9255014326647565\n",
      "0.807536231884058\n"
     ]
    }
   ],
   "source": [
    "#Sensitivity\n",
    "sensitivity=TP / float(TP+FN)\n",
    "print(sensitivity)\n",
    "#Specificity\n",
    "specificity=TN / float(TN+FP)\n",
    "print(specificity)"
   ]
  },
  {
   "cell_type": "code",
   "execution_count": 174,
   "metadata": {},
   "outputs": [
    {
     "data": {
      "text/plain": [
       "0.7448116833205227"
      ]
     },
     "execution_count": 174,
     "metadata": {},
     "output_type": "execute_result"
    }
   ],
   "source": [
    "precision=confusion11[1,1]/(confusion11[0,1]+confusion11[1,1])\n",
    "precision"
   ]
  },
  {
   "cell_type": "code",
   "execution_count": 175,
   "metadata": {},
   "outputs": [
    {
     "data": {
      "text/plain": [
       "0.9255014326647565"
      ]
     },
     "execution_count": 175,
     "metadata": {},
     "output_type": "execute_result"
    }
   ],
   "source": [
    "recall=confusion11[1,1]/(confusion11[1,0]+confusion11[1,1])\n",
    "recall"
   ]
  },
  {
   "cell_type": "code",
   "execution_count": 176,
   "metadata": {},
   "outputs": [
    {
     "data": {
      "text/html": [
       "<div>\n",
       "<style scoped>\n",
       "    .dataframe tbody tr th:only-of-type {\n",
       "        vertical-align: middle;\n",
       "    }\n",
       "\n",
       "    .dataframe tbody tr th {\n",
       "        vertical-align: top;\n",
       "    }\n",
       "\n",
       "    .dataframe thead th {\n",
       "        text-align: right;\n",
       "    }\n",
       "</style>\n",
       "<table border=\"1\" class=\"dataframe\">\n",
       "  <thead>\n",
       "    <tr style=\"text-align: right;\">\n",
       "      <th></th>\n",
       "      <th>Converted</th>\n",
       "      <th>Converted_Prob</th>\n",
       "      <th>final_predicted</th>\n",
       "      <th>Lead_ID</th>\n",
       "    </tr>\n",
       "  </thead>\n",
       "  <tbody>\n",
       "    <tr>\n",
       "      <th>0</th>\n",
       "      <td>0</td>\n",
       "      <td>0.011540</td>\n",
       "      <td>0</td>\n",
       "      <td>0</td>\n",
       "    </tr>\n",
       "    <tr>\n",
       "      <th>1</th>\n",
       "      <td>0</td>\n",
       "      <td>0.024452</td>\n",
       "      <td>0</td>\n",
       "      <td>1</td>\n",
       "    </tr>\n",
       "    <tr>\n",
       "      <th>2</th>\n",
       "      <td>0</td>\n",
       "      <td>0.014003</td>\n",
       "      <td>0</td>\n",
       "      <td>2</td>\n",
       "    </tr>\n",
       "    <tr>\n",
       "      <th>3</th>\n",
       "      <td>0</td>\n",
       "      <td>0.541854</td>\n",
       "      <td>1</td>\n",
       "      <td>3</td>\n",
       "    </tr>\n",
       "    <tr>\n",
       "      <th>4</th>\n",
       "      <td>0</td>\n",
       "      <td>0.014003</td>\n",
       "      <td>0</td>\n",
       "      <td>4</td>\n",
       "    </tr>\n",
       "  </tbody>\n",
       "</table>\n",
       "</div>"
      ],
      "text/plain": [
       "   Converted  Converted_Prob  final_predicted  Lead_ID\n",
       "0          0        0.011540                0        0\n",
       "1          0        0.024452                0        1\n",
       "2          0        0.014003                0        2\n",
       "3          0        0.541854                1        3\n",
       "4          0        0.014003                0        4"
      ]
     },
     "execution_count": 176,
     "metadata": {},
     "output_type": "execute_result"
    }
   ],
   "source": [
    "y_pred_final.head()"
   ]
  },
  {
   "cell_type": "markdown",
   "metadata": {},
   "source": [
    "### The performance metrics with test data are also in line with the performance metrics of the training data. This can be selected as final model."
   ]
  },
  {
   "cell_type": "markdown",
   "metadata": {},
   "source": [
    "### Calculate Lead Score (Highest score indicates more chances of conversion)"
   ]
  },
  {
   "cell_type": "code",
   "execution_count": 195,
   "metadata": {},
   "outputs": [
    {
     "data": {
      "text/html": [
       "<div>\n",
       "<style scoped>\n",
       "    .dataframe tbody tr th:only-of-type {\n",
       "        vertical-align: middle;\n",
       "    }\n",
       "\n",
       "    .dataframe tbody tr th {\n",
       "        vertical-align: top;\n",
       "    }\n",
       "\n",
       "    .dataframe thead th {\n",
       "        text-align: right;\n",
       "    }\n",
       "</style>\n",
       "<table border=\"1\" class=\"dataframe\">\n",
       "  <thead>\n",
       "    <tr style=\"text-align: right;\">\n",
       "      <th></th>\n",
       "      <th>Converted</th>\n",
       "      <th>Converted_Prob</th>\n",
       "      <th>final_predicted</th>\n",
       "      <th>Lead_ID</th>\n",
       "      <th>LeadScore</th>\n",
       "    </tr>\n",
       "  </thead>\n",
       "  <tbody>\n",
       "    <tr>\n",
       "      <th>0</th>\n",
       "      <td>0</td>\n",
       "      <td>0.011540</td>\n",
       "      <td>0</td>\n",
       "      <td>0</td>\n",
       "      <td>0</td>\n",
       "    </tr>\n",
       "    <tr>\n",
       "      <th>1</th>\n",
       "      <td>0</td>\n",
       "      <td>0.024452</td>\n",
       "      <td>0</td>\n",
       "      <td>1</td>\n",
       "      <td>0</td>\n",
       "    </tr>\n",
       "    <tr>\n",
       "      <th>2</th>\n",
       "      <td>0</td>\n",
       "      <td>0.014003</td>\n",
       "      <td>0</td>\n",
       "      <td>2</td>\n",
       "      <td>0</td>\n",
       "    </tr>\n",
       "    <tr>\n",
       "      <th>3</th>\n",
       "      <td>0</td>\n",
       "      <td>0.541854</td>\n",
       "      <td>1</td>\n",
       "      <td>3</td>\n",
       "      <td>54</td>\n",
       "    </tr>\n",
       "    <tr>\n",
       "      <th>4</th>\n",
       "      <td>0</td>\n",
       "      <td>0.014003</td>\n",
       "      <td>0</td>\n",
       "      <td>4</td>\n",
       "      <td>0</td>\n",
       "    </tr>\n",
       "    <tr>\n",
       "      <th>5</th>\n",
       "      <td>0</td>\n",
       "      <td>0.003098</td>\n",
       "      <td>0</td>\n",
       "      <td>5</td>\n",
       "      <td>0</td>\n",
       "    </tr>\n",
       "    <tr>\n",
       "      <th>6</th>\n",
       "      <td>1</td>\n",
       "      <td>0.928247</td>\n",
       "      <td>1</td>\n",
       "      <td>6</td>\n",
       "      <td>93</td>\n",
       "    </tr>\n",
       "    <tr>\n",
       "      <th>7</th>\n",
       "      <td>0</td>\n",
       "      <td>0.527262</td>\n",
       "      <td>1</td>\n",
       "      <td>7</td>\n",
       "      <td>53</td>\n",
       "    </tr>\n",
       "    <tr>\n",
       "      <th>8</th>\n",
       "      <td>0</td>\n",
       "      <td>0.541854</td>\n",
       "      <td>1</td>\n",
       "      <td>8</td>\n",
       "      <td>54</td>\n",
       "    </tr>\n",
       "    <tr>\n",
       "      <th>9</th>\n",
       "      <td>1</td>\n",
       "      <td>0.541854</td>\n",
       "      <td>1</td>\n",
       "      <td>9</td>\n",
       "      <td>54</td>\n",
       "    </tr>\n",
       "    <tr>\n",
       "      <th>10</th>\n",
       "      <td>1</td>\n",
       "      <td>0.541854</td>\n",
       "      <td>1</td>\n",
       "      <td>10</td>\n",
       "      <td>54</td>\n",
       "    </tr>\n",
       "    <tr>\n",
       "      <th>11</th>\n",
       "      <td>1</td>\n",
       "      <td>0.024452</td>\n",
       "      <td>0</td>\n",
       "      <td>11</td>\n",
       "      <td>0</td>\n",
       "    </tr>\n",
       "    <tr>\n",
       "      <th>12</th>\n",
       "      <td>0</td>\n",
       "      <td>0.082836</td>\n",
       "      <td>0</td>\n",
       "      <td>12</td>\n",
       "      <td>0</td>\n",
       "    </tr>\n",
       "    <tr>\n",
       "      <th>13</th>\n",
       "      <td>0</td>\n",
       "      <td>0.002548</td>\n",
       "      <td>0</td>\n",
       "      <td>13</td>\n",
       "      <td>0</td>\n",
       "    </tr>\n",
       "    <tr>\n",
       "      <th>14</th>\n",
       "      <td>0</td>\n",
       "      <td>0.014003</td>\n",
       "      <td>0</td>\n",
       "      <td>14</td>\n",
       "      <td>0</td>\n",
       "    </tr>\n",
       "    <tr>\n",
       "      <th>15</th>\n",
       "      <td>0</td>\n",
       "      <td>0.043801</td>\n",
       "      <td>0</td>\n",
       "      <td>15</td>\n",
       "      <td>0</td>\n",
       "    </tr>\n",
       "    <tr>\n",
       "      <th>16</th>\n",
       "      <td>0</td>\n",
       "      <td>0.011540</td>\n",
       "      <td>0</td>\n",
       "      <td>16</td>\n",
       "      <td>0</td>\n",
       "    </tr>\n",
       "    <tr>\n",
       "      <th>17</th>\n",
       "      <td>0</td>\n",
       "      <td>0.003098</td>\n",
       "      <td>0</td>\n",
       "      <td>17</td>\n",
       "      <td>0</td>\n",
       "    </tr>\n",
       "    <tr>\n",
       "      <th>18</th>\n",
       "      <td>0</td>\n",
       "      <td>0.205609</td>\n",
       "      <td>0</td>\n",
       "      <td>18</td>\n",
       "      <td>0</td>\n",
       "    </tr>\n",
       "    <tr>\n",
       "      <th>19</th>\n",
       "      <td>1</td>\n",
       "      <td>0.541854</td>\n",
       "      <td>1</td>\n",
       "      <td>19</td>\n",
       "      <td>54</td>\n",
       "    </tr>\n",
       "  </tbody>\n",
       "</table>\n",
       "</div>"
      ],
      "text/plain": [
       "    Converted  Converted_Prob  final_predicted  Lead_ID  LeadScore\n",
       "0           0        0.011540                0        0          0\n",
       "1           0        0.024452                0        1          0\n",
       "2           0        0.014003                0        2          0\n",
       "3           0        0.541854                1        3         54\n",
       "4           0        0.014003                0        4          0\n",
       "5           0        0.003098                0        5          0\n",
       "6           1        0.928247                1        6         93\n",
       "7           0        0.527262                1        7         53\n",
       "8           0        0.541854                1        8         54\n",
       "9           1        0.541854                1        9         54\n",
       "10          1        0.541854                1       10         54\n",
       "11          1        0.024452                0       11          0\n",
       "12          0        0.082836                0       12          0\n",
       "13          0        0.002548                0       13          0\n",
       "14          0        0.014003                0       14          0\n",
       "15          0        0.043801                0       15          0\n",
       "16          0        0.011540                0       16          0\n",
       "17          0        0.003098                0       17          0\n",
       "18          0        0.205609                0       18          0\n",
       "19          1        0.541854                1       19         54"
      ]
     },
     "execution_count": 195,
     "metadata": {},
     "output_type": "execute_result"
    }
   ],
   "source": [
    "#calculate lead Score\n",
    "y_pred_final['LeadScore'] = y_pred_final.apply(lambda row: 0 if row['final_predicted'] ==0 else round(row['Converted_Prob']*100) , axis=1)\n",
    "y_pred_final.head(20)"
   ]
  }
 ],
 "metadata": {
  "kernelspec": {
   "display_name": "Python 3",
   "language": "python",
   "name": "python3"
  },
  "language_info": {
   "codemirror_mode": {
    "name": "ipython",
    "version": 3
   },
   "file_extension": ".py",
   "mimetype": "text/x-python",
   "name": "python",
   "nbconvert_exporter": "python",
   "pygments_lexer": "ipython3",
   "version": "3.7.3"
  }
 },
 "nbformat": 4,
 "nbformat_minor": 2
}
